{
 "cells": [
  {
   "cell_type": "markdown",
   "metadata": {},
   "source": [
    "Customer Conversion Prediction Model"
   ]
  },
  {
   "cell_type": "code",
   "execution_count": 1,
   "metadata": {},
   "outputs": [],
   "source": [
    "import pandas as pd\n",
    "import numpy as np\n",
    "import matplotlib.pyplot as plt\n",
    "import seaborn as sns\n",
    "from datetime import timedelta\n",
    "import random\n",
    "from sklearn.model_selection import train_test_split\n",
    "from sklearn.preprocessing import LabelEncoder, OneHotEncoder\n",
    "from sklearn.impute import SimpleImputer\n",
    "from sklearn.preprocessing import StandardScaler, OneHotEncoder, FunctionTransformer\n",
    "from sklearn.base import BaseEstimator, TransformerMixin\n",
    "from sklearn.metrics import roc_auc_score, accuracy_score, classification_report, confusion_matrix, roc_curve, auc, make_scorer\n",
    "from sklearn.model_selection import cross_val_score\n",
    "from sklearn.pipeline import Pipeline\n",
    "from sklearn.compose import ColumnTransformer\n",
    "import category_encoders as ce\n",
    "from sklearn.preprocessing import StandardScaler\n",
    "import mlflow\n",
    "import mlflow.sklearn\n",
    "from sklearn.metrics import make_scorer\n"
   ]
  },
  {
   "cell_type": "code",
   "execution_count": 2,
   "metadata": {},
   "outputs": [],
   "source": [
    "from sklearn.linear_model import LogisticRegression\n",
    "from sklearn.ensemble import RandomForestClassifier, GradientBoostingClassifier\n",
    "from sklearn.model_selection import GridSearchCV\n",
    "from sklearn.metrics import roc_auc_score"
   ]
  },
  {
   "cell_type": "code",
   "execution_count": 3,
   "metadata": {},
   "outputs": [],
   "source": [
    "data = pd.read_excel('EnquiryAnalysis.xlsx')"
   ]
  },
  {
   "cell_type": "code",
   "execution_count": 4,
   "metadata": {},
   "outputs": [],
   "source": [
    "data['EDate'] = pd.to_datetime(data['EDate'], format='%d %b %Y %H:%M:%S')\n",
    "df = data[data['EDate'].dt.year == 2024]\n"
   ]
  },
  {
   "cell_type": "code",
   "execution_count": 5,
   "metadata": {},
   "outputs": [
    {
     "data": {
      "text/html": [
       "<div>\n",
       "<style scoped>\n",
       "    .dataframe tbody tr th:only-of-type {\n",
       "        vertical-align: middle;\n",
       "    }\n",
       "\n",
       "    .dataframe tbody tr th {\n",
       "        vertical-align: top;\n",
       "    }\n",
       "\n",
       "    .dataframe thead th {\n",
       "        text-align: right;\n",
       "    }\n",
       "</style>\n",
       "<table border=\"1\" class=\"dataframe\">\n",
       "  <thead>\n",
       "    <tr style=\"text-align: right;\">\n",
       "      <th></th>\n",
       "      <th>ROW_NUM</th>\n",
       "      <th>Column1</th>\n",
       "      <th>Enquiry_id</th>\n",
       "      <th>Enquiry_SrNo</th>\n",
       "      <th>EDate</th>\n",
       "      <th>Name</th>\n",
       "      <th>Project</th>\n",
       "      <th>Unit</th>\n",
       "      <th>Mobile</th>\n",
       "      <th>Phone_Office</th>\n",
       "      <th>...</th>\n",
       "      <th>SalesPoints</th>\n",
       "      <th>CustomerType</th>\n",
       "      <th>EnquiryStage</th>\n",
       "      <th>Enquiry_Status</th>\n",
       "      <th>Enquiry Conclusion Date</th>\n",
       "      <th>StageChangeDate</th>\n",
       "      <th>Last_Approach_Date</th>\n",
       "      <th>Filtered_Date</th>\n",
       "      <th>Booking_Info</th>\n",
       "      <th>Account_ID</th>\n",
       "    </tr>\n",
       "  </thead>\n",
       "  <tbody>\n",
       "    <tr>\n",
       "      <th>0</th>\n",
       "      <td>1</td>\n",
       "      <td>1</td>\n",
       "      <td>37293</td>\n",
       "      <td>37191</td>\n",
       "      <td>2024-07-20 12:17:42</td>\n",
       "      <td>MR JAY SMS</td>\n",
       "      <td>Sage Milestone</td>\n",
       "      <td>NaN</td>\n",
       "      <td>9179830111</td>\n",
       "      <td>NaN</td>\n",
       "      <td>...</td>\n",
       "      <td>NaN</td>\n",
       "      <td>NaN</td>\n",
       "      <td>Lead Confirmation</td>\n",
       "      <td>Open</td>\n",
       "      <td>NaN</td>\n",
       "      <td>20 Jul 2024 00:00:00</td>\n",
       "      <td>NaN</td>\n",
       "      <td>20-Jul-2024</td>\n",
       "      <td>NaN</td>\n",
       "      <td>33712</td>\n",
       "    </tr>\n",
       "    <tr>\n",
       "      <th>1</th>\n",
       "      <td>2</td>\n",
       "      <td>1</td>\n",
       "      <td>37292</td>\n",
       "      <td>37190</td>\n",
       "      <td>2024-07-20 11:57:20</td>\n",
       "      <td>Shiv Chousaria</td>\n",
       "      <td>Sage Milestone</td>\n",
       "      <td>NaN</td>\n",
       "      <td>9713071645</td>\n",
       "      <td>NaN</td>\n",
       "      <td>...</td>\n",
       "      <td>NaN</td>\n",
       "      <td>NaN</td>\n",
       "      <td>Enquiry</td>\n",
       "      <td>Open</td>\n",
       "      <td>NaN</td>\n",
       "      <td>20 Jul 2024 00:00:00</td>\n",
       "      <td>NaN</td>\n",
       "      <td>20-Jul-2024</td>\n",
       "      <td>NaN</td>\n",
       "      <td>33710</td>\n",
       "    </tr>\n",
       "    <tr>\n",
       "      <th>2</th>\n",
       "      <td>3</td>\n",
       "      <td>1</td>\n",
       "      <td>37291</td>\n",
       "      <td>37189</td>\n",
       "      <td>2024-07-20 12:02:41</td>\n",
       "      <td>gokul maheshwari</td>\n",
       "      <td>Sage Bungalows</td>\n",
       "      <td>NaN</td>\n",
       "      <td>9983751000</td>\n",
       "      <td>NaN</td>\n",
       "      <td>...</td>\n",
       "      <td>NaN</td>\n",
       "      <td>NaN</td>\n",
       "      <td>Site Visit - Proposed</td>\n",
       "      <td>Open</td>\n",
       "      <td>NaN</td>\n",
       "      <td>20 Jul 2024 00:00:00</td>\n",
       "      <td>NaN</td>\n",
       "      <td>20-Jul-2024</td>\n",
       "      <td>NaN</td>\n",
       "      <td>33711</td>\n",
       "    </tr>\n",
       "    <tr>\n",
       "      <th>3</th>\n",
       "      <td>4</td>\n",
       "      <td>1</td>\n",
       "      <td>37290</td>\n",
       "      <td>37188</td>\n",
       "      <td>2024-07-20 11:53:38</td>\n",
       "      <td>Prabhakar Gupta</td>\n",
       "      <td>Sage Milestone</td>\n",
       "      <td>NaN</td>\n",
       "      <td>6261359443</td>\n",
       "      <td>NaN</td>\n",
       "      <td>...</td>\n",
       "      <td>NaN</td>\n",
       "      <td>NaN</td>\n",
       "      <td>Enquiry</td>\n",
       "      <td>Open</td>\n",
       "      <td>NaN</td>\n",
       "      <td>20 Jul 2024 00:00:00</td>\n",
       "      <td>NaN</td>\n",
       "      <td>20-Jul-2024</td>\n",
       "      <td>NaN</td>\n",
       "      <td>33709</td>\n",
       "    </tr>\n",
       "    <tr>\n",
       "      <th>4</th>\n",
       "      <td>5</td>\n",
       "      <td>1</td>\n",
       "      <td>37289</td>\n",
       "      <td>37187</td>\n",
       "      <td>2024-07-20 11:51:34</td>\n",
       "      <td>Rohit</td>\n",
       "      <td>Sage Nirvana Phase I</td>\n",
       "      <td>NaN</td>\n",
       "      <td>7869876667</td>\n",
       "      <td>NaN</td>\n",
       "      <td>...</td>\n",
       "      <td>NaN</td>\n",
       "      <td>NaN</td>\n",
       "      <td>Enquiry</td>\n",
       "      <td>Open</td>\n",
       "      <td>NaN</td>\n",
       "      <td>20 Jul 2024 11:51:34</td>\n",
       "      <td>20 Jul 2024 11:51:35</td>\n",
       "      <td>20-Jul-2024</td>\n",
       "      <td>NaN</td>\n",
       "      <td>33708</td>\n",
       "    </tr>\n",
       "  </tbody>\n",
       "</table>\n",
       "<p>5 rows × 90 columns</p>\n",
       "</div>"
      ],
      "text/plain": [
       "   ROW_NUM  Column1  Enquiry_id  Enquiry_SrNo               EDate  \\\n",
       "0        1        1       37293         37191 2024-07-20 12:17:42   \n",
       "1        2        1       37292         37190 2024-07-20 11:57:20   \n",
       "2        3        1       37291         37189 2024-07-20 12:02:41   \n",
       "3        4        1       37290         37188 2024-07-20 11:53:38   \n",
       "4        5        1       37289         37187 2024-07-20 11:51:34   \n",
       "\n",
       "               Name               Project Unit      Mobile  Phone_Office  ...  \\\n",
       "0        MR JAY SMS        Sage Milestone  NaN  9179830111           NaN  ...   \n",
       "1    Shiv Chousaria        Sage Milestone  NaN  9713071645           NaN  ...   \n",
       "2  gokul maheshwari        Sage Bungalows  NaN  9983751000           NaN  ...   \n",
       "3   Prabhakar Gupta        Sage Milestone  NaN  6261359443           NaN  ...   \n",
       "4             Rohit  Sage Nirvana Phase I  NaN  7869876667           NaN  ...   \n",
       "\n",
       "  SalesPoints  CustomerType           EnquiryStage Enquiry_Status  \\\n",
       "0         NaN           NaN      Lead Confirmation           Open   \n",
       "1         NaN           NaN                Enquiry           Open   \n",
       "2         NaN           NaN  Site Visit - Proposed           Open   \n",
       "3         NaN           NaN                Enquiry           Open   \n",
       "4         NaN           NaN                Enquiry           Open   \n",
       "\n",
       "  Enquiry Conclusion Date       StageChangeDate    Last_Approach_Date  \\\n",
       "0                     NaN  20 Jul 2024 00:00:00                   NaN   \n",
       "1                     NaN  20 Jul 2024 00:00:00                   NaN   \n",
       "2                     NaN  20 Jul 2024 00:00:00                   NaN   \n",
       "3                     NaN  20 Jul 2024 00:00:00                   NaN   \n",
       "4                     NaN  20 Jul 2024 11:51:34  20 Jul 2024 11:51:35   \n",
       "\n",
       "  Filtered_Date Booking_Info Account_ID  \n",
       "0   20-Jul-2024          NaN      33712  \n",
       "1   20-Jul-2024          NaN      33710  \n",
       "2   20-Jul-2024          NaN      33711  \n",
       "3   20-Jul-2024          NaN      33709  \n",
       "4   20-Jul-2024          NaN      33708  \n",
       "\n",
       "[5 rows x 90 columns]"
      ]
     },
     "execution_count": 5,
     "metadata": {},
     "output_type": "execute_result"
    }
   ],
   "source": [
    "df.head()"
   ]
  },
  {
   "cell_type": "code",
   "execution_count": 6,
   "metadata": {},
   "outputs": [
    {
     "data": {
      "text/plain": [
       "Index(['ROW_NUM', 'Column1', 'Enquiry_id', 'Enquiry_SrNo', 'EDate', 'Name',\n",
       "       'Project', 'Unit', 'Mobile', 'Phone_Office', 'Email', 'Mobile2',\n",
       "       'Phone_Offi2', 'Email2', 'Remark', 'Result', 'Final_Remark', 'Remark1',\n",
       "       'Remark2', 'Remark3', 'HandledByEmployee', 'FollowUp_Date',\n",
       "       'Followup_Employee', 'Approach_Followup_Employee', 'FollowUp_Mode',\n",
       "       'Next_FollowUp1', 'Next_Followup_Employee', 'SourceEnquiry',\n",
       "       'CustomerGrade', 'Address', 'Address_Temp', 'Prospect_Location', 'City',\n",
       "       'Pin', 'NRI', 'Age', 'Phone_Resi', 'Phone_Resi2', 'Website',\n",
       "       'Community', 'Nation', 'Family_Members', 'Staying_Status',\n",
       "       'Marital_Status', 'Occupation', 'Income', 'Organization', 'Designation',\n",
       "       'Office_Address', 'Fax', 'Contact_Person', 'UNITTYPENM', 'Rooms',\n",
       "       'Toilets_Required', 'Area_Requirement', 'Parking', 'Location',\n",
       "       'Location2', 'Location3', 'Floor', 'Budget', 'SourceFunding',\n",
       "       'Loan_required', 'Loan_amount', 'Finance', 'Expected_Possation',\n",
       "       'Enquirytype', 'Broker_Name', 'Source', 'Campaign', 'Primary_Source',\n",
       "       'Secondary_Source', 'Source_Of_Information', 'FirstQuestion',\n",
       "       'Action_taken', 'Purchase_Before', 'Booked_upto', 'Projnm2', 'Unitno2',\n",
       "       'Bldg', 'SalesPoints', 'CustomerType', 'EnquiryStage', 'Enquiry_Status',\n",
       "       'Enquiry Conclusion Date', 'StageChangeDate', 'Last_Approach_Date',\n",
       "       'Filtered_Date', 'Booking_Info', 'Account_ID'],\n",
       "      dtype='object')"
      ]
     },
     "execution_count": 6,
     "metadata": {},
     "output_type": "execute_result"
    }
   ],
   "source": [
    "df.columns"
   ]
  },
  {
   "cell_type": "code",
   "execution_count": 7,
   "metadata": {},
   "outputs": [
    {
     "data": {
      "text/plain": [
       "ROW_NUM                   0\n",
       "Column1                   0\n",
       "Enquiry_id                0\n",
       "Enquiry_SrNo              0\n",
       "EDate                     0\n",
       "                      ...  \n",
       "StageChangeDate         751\n",
       "Last_Approach_Date    14659\n",
       "Filtered_Date             0\n",
       "Booking_Info          26614\n",
       "Account_ID                0\n",
       "Length: 90, dtype: int64"
      ]
     },
     "execution_count": 7,
     "metadata": {},
     "output_type": "execute_result"
    }
   ],
   "source": [
    "df.isnull().sum()\n"
   ]
  },
  {
   "cell_type": "code",
   "execution_count": 8,
   "metadata": {},
   "outputs": [],
   "source": [
    "df = df.drop(['ROW_NUM', 'Column1', 'Enquiry_SrNo',\n",
    "       'Unit', 'Mobile', 'Phone_Office', 'Email', 'Mobile2',\n",
    "       'Phone_Offi2', 'Email2',\n",
    "       'Remark2', 'Remark3',\n",
    "       'Address', 'Address_Temp', 'Prospect_Location', 'City',\n",
    "       'Pin', 'NRI', 'Age', 'Phone_Resi', 'Phone_Resi2', 'Website',\n",
    "       'Community', 'Nation', 'Family_Members', 'Staying_Status', 'Income', 'Organization', 'Designation',\n",
    "       'Office_Address', 'Fax', 'Contact_Person', 'Rooms',\n",
    "       'Toilets_Required', 'Area_Requirement', 'Parking',\n",
    "       'Location2', 'Location3', 'Floor', 'SourceFunding',\n",
    "       'Loan_required', 'Loan_amount', 'Finance', 'Expected_Possation',\n",
    "        'Broker_Name', 'FirstQuestion',\n",
    "       'Action_taken', 'Purchase_Before', 'Booked_upto', 'Projnm2', 'Unitno2',\n",
    "       'Bldg', 'SalesPoints','Account_ID'],axis=1)"
   ]
  },
  {
   "cell_type": "code",
   "execution_count": 9,
   "metadata": {},
   "outputs": [
    {
     "data": {
      "text/plain": [
       "Index(['Enquiry_id', 'EDate', 'Name', 'Project', 'Remark', 'Result',\n",
       "       'Final_Remark', 'Remark1', 'HandledByEmployee', 'FollowUp_Date',\n",
       "       'Followup_Employee', 'Approach_Followup_Employee', 'FollowUp_Mode',\n",
       "       'Next_FollowUp1', 'Next_Followup_Employee', 'SourceEnquiry',\n",
       "       'CustomerGrade', 'Marital_Status', 'Occupation', 'UNITTYPENM',\n",
       "       'Location', 'Budget', 'Enquirytype', 'Source', 'Campaign',\n",
       "       'Primary_Source', 'Secondary_Source', 'Source_Of_Information',\n",
       "       'CustomerType', 'EnquiryStage', 'Enquiry_Status',\n",
       "       'Enquiry Conclusion Date', 'StageChangeDate', 'Last_Approach_Date',\n",
       "       'Filtered_Date', 'Booking_Info'],\n",
       "      dtype='object')"
      ]
     },
     "execution_count": 9,
     "metadata": {},
     "output_type": "execute_result"
    }
   ],
   "source": [
    "df.columns"
   ]
  },
  {
   "cell_type": "code",
   "execution_count": 10,
   "metadata": {},
   "outputs": [],
   "source": [
    "# df.to_excel('data_2024.xlsx',index=None)\n",
    "# df_2023.to_excel('data_2023.xlsx')\n",
    "# df_2022.to_excel('data_2022.xlsx')\n"
   ]
  },
  {
   "cell_type": "code",
   "execution_count": 11,
   "metadata": {},
   "outputs": [],
   "source": [
    "df = df.drop('Booking_Info',axis=1)\n",
    "df = df.drop('SourceEnquiry',axis=1)\n",
    "df = df.drop('Name',axis=1)"
   ]
  },
  {
   "cell_type": "code",
   "execution_count": 12,
   "metadata": {},
   "outputs": [
    {
     "data": {
      "text/plain": [
       "Enquiry_id                        0\n",
       "EDate                             0\n",
       "Project                        6849\n",
       "Remark                        14346\n",
       "Result                        12324\n",
       "Final_Remark                  18583\n",
       "Remark1                        1305\n",
       "HandledByEmployee                 0\n",
       "FollowUp_Date                   751\n",
       "Followup_Employee               753\n",
       "Approach_Followup_Employee      754\n",
       "FollowUp_Mode                 17320\n",
       "Next_FollowUp1                  751\n",
       "Next_Followup_Employee          754\n",
       "CustomerGrade                  4981\n",
       "Marital_Status                    0\n",
       "Occupation                    26095\n",
       "UNITTYPENM                    21590\n",
       "Location                      22718\n",
       "Budget                        23747\n",
       "Enquirytype                    8149\n",
       "Source                        14931\n",
       "Campaign                      26156\n",
       "Primary_Source                14931\n",
       "Secondary_Source              14931\n",
       "Source_Of_Information         14931\n",
       "CustomerType                  25622\n",
       "EnquiryStage                    796\n",
       "Enquiry_Status                    0\n",
       "Enquiry Conclusion Date       11527\n",
       "StageChangeDate                 751\n",
       "Last_Approach_Date            14659\n",
       "Filtered_Date                     0\n",
       "dtype: int64"
      ]
     },
     "execution_count": 12,
     "metadata": {},
     "output_type": "execute_result"
    }
   ],
   "source": [
    "df.isnull().sum()"
   ]
  },
  {
   "cell_type": "code",
   "execution_count": 13,
   "metadata": {},
   "outputs": [
    {
     "data": {
      "text/html": [
       "<div>\n",
       "<style scoped>\n",
       "    .dataframe tbody tr th:only-of-type {\n",
       "        vertical-align: middle;\n",
       "    }\n",
       "\n",
       "    .dataframe tbody tr th {\n",
       "        vertical-align: top;\n",
       "    }\n",
       "\n",
       "    .dataframe thead th {\n",
       "        text-align: right;\n",
       "    }\n",
       "</style>\n",
       "<table border=\"1\" class=\"dataframe\">\n",
       "  <thead>\n",
       "    <tr style=\"text-align: right;\">\n",
       "      <th></th>\n",
       "      <th>Enquiry_id</th>\n",
       "      <th>EDate</th>\n",
       "      <th>Project</th>\n",
       "      <th>Remark</th>\n",
       "      <th>Result</th>\n",
       "      <th>Final_Remark</th>\n",
       "      <th>Remark1</th>\n",
       "      <th>HandledByEmployee</th>\n",
       "      <th>FollowUp_Date</th>\n",
       "      <th>Followup_Employee</th>\n",
       "      <th>...</th>\n",
       "      <th>Primary_Source</th>\n",
       "      <th>Secondary_Source</th>\n",
       "      <th>Source_Of_Information</th>\n",
       "      <th>CustomerType</th>\n",
       "      <th>EnquiryStage</th>\n",
       "      <th>Enquiry_Status</th>\n",
       "      <th>Enquiry Conclusion Date</th>\n",
       "      <th>StageChangeDate</th>\n",
       "      <th>Last_Approach_Date</th>\n",
       "      <th>Filtered_Date</th>\n",
       "    </tr>\n",
       "  </thead>\n",
       "  <tbody>\n",
       "    <tr>\n",
       "      <th>0</th>\n",
       "      <td>37293</td>\n",
       "      <td>2024-07-20 12:17:42</td>\n",
       "      <td>Sage Milestone</td>\n",
       "      <td>NaN</td>\n",
       "      <td>NaN</td>\n",
       "      <td>NaN</td>\n",
       "      <td>HE EFFFORT 30K EME 5L DOWNPAMNT...SMS SUGGUST ...</td>\n",
       "      <td>Faizal Ahmad</td>\n",
       "      <td>20 Jul 2024 12:18:44</td>\n",
       "      <td>Faizal Ahmad</td>\n",
       "      <td>...</td>\n",
       "      <td>NaN</td>\n",
       "      <td>NaN</td>\n",
       "      <td>NaN</td>\n",
       "      <td>NaN</td>\n",
       "      <td>Lead Confirmation</td>\n",
       "      <td>Open</td>\n",
       "      <td>NaN</td>\n",
       "      <td>20 Jul 2024 00:00:00</td>\n",
       "      <td>NaN</td>\n",
       "      <td>20-Jul-2024</td>\n",
       "    </tr>\n",
       "    <tr>\n",
       "      <th>1</th>\n",
       "      <td>37292</td>\n",
       "      <td>2024-07-20 11:57:20</td>\n",
       "      <td>Sage Milestone</td>\n",
       "      <td>Interested in SMS/SN Dupplex</td>\n",
       "      <td>NaN</td>\n",
       "      <td>NaN</td>\n",
       "      <td>discussion done and interested in duplex will ...</td>\n",
       "      <td>Neeraj Kamboj</td>\n",
       "      <td>20 Jul 2024 12:24:33</td>\n",
       "      <td>Neeraj Kamboj</td>\n",
       "      <td>...</td>\n",
       "      <td>NaN</td>\n",
       "      <td>NaN</td>\n",
       "      <td>NaN</td>\n",
       "      <td>NaN</td>\n",
       "      <td>Enquiry</td>\n",
       "      <td>Open</td>\n",
       "      <td>NaN</td>\n",
       "      <td>20 Jul 2024 00:00:00</td>\n",
       "      <td>NaN</td>\n",
       "      <td>20-Jul-2024</td>\n",
       "    </tr>\n",
       "    <tr>\n",
       "      <th>2</th>\n",
       "      <td>37291</td>\n",
       "      <td>2024-07-20 12:02:41</td>\n",
       "      <td>Sage Bungalows</td>\n",
       "      <td>NaN</td>\n",
       "      <td>NaN</td>\n",
       "      <td>NaN</td>\n",
       "      <td>want bungalow suggested our sage projects will...</td>\n",
       "      <td>Manju Ingle</td>\n",
       "      <td>20 Jul 2024 12:04:24</td>\n",
       "      <td>Manju Ingle</td>\n",
       "      <td>...</td>\n",
       "      <td>NaN</td>\n",
       "      <td>NaN</td>\n",
       "      <td>NaN</td>\n",
       "      <td>NaN</td>\n",
       "      <td>Site Visit - Proposed</td>\n",
       "      <td>Open</td>\n",
       "      <td>NaN</td>\n",
       "      <td>20 Jul 2024 00:00:00</td>\n",
       "      <td>NaN</td>\n",
       "      <td>20-Jul-2024</td>\n",
       "    </tr>\n",
       "    <tr>\n",
       "      <th>3</th>\n",
       "      <td>37290</td>\n",
       "      <td>2024-07-20 11:53:38</td>\n",
       "      <td>Sage Milestone</td>\n",
       "      <td>interested in duplex SMS</td>\n",
       "      <td>NaN</td>\n",
       "      <td>NaN</td>\n",
       "      <td>interested in duplex 810 sq ft all detals send...</td>\n",
       "      <td>Neeraj Kamboj</td>\n",
       "      <td>20 Jul 2024 11:55:34</td>\n",
       "      <td>Neeraj Kamboj</td>\n",
       "      <td>...</td>\n",
       "      <td>NaN</td>\n",
       "      <td>NaN</td>\n",
       "      <td>NaN</td>\n",
       "      <td>NaN</td>\n",
       "      <td>Enquiry</td>\n",
       "      <td>Open</td>\n",
       "      <td>NaN</td>\n",
       "      <td>20 Jul 2024 00:00:00</td>\n",
       "      <td>NaN</td>\n",
       "      <td>20-Jul-2024</td>\n",
       "    </tr>\n",
       "    <tr>\n",
       "      <th>4</th>\n",
       "      <td>37289</td>\n",
       "      <td>2024-07-20 11:51:34</td>\n",
       "      <td>Sage Nirvana Phase I</td>\n",
       "      <td>Residential Enquiry From Website Google Landin...</td>\n",
       "      <td>NaN</td>\n",
       "      <td>NaN</td>\n",
       "      <td>Residential Enquiry From Website Google Landin...</td>\n",
       "      <td>Pragati Kashyap</td>\n",
       "      <td>20 Jul 2024 11:51:35</td>\n",
       "      <td>Pragati Kashyap</td>\n",
       "      <td>...</td>\n",
       "      <td>Digital</td>\n",
       "      <td>Google Ads</td>\n",
       "      <td>Google - Website Landing</td>\n",
       "      <td>NaN</td>\n",
       "      <td>Enquiry</td>\n",
       "      <td>Open</td>\n",
       "      <td>NaN</td>\n",
       "      <td>20 Jul 2024 11:51:34</td>\n",
       "      <td>20 Jul 2024 11:51:35</td>\n",
       "      <td>20-Jul-2024</td>\n",
       "    </tr>\n",
       "  </tbody>\n",
       "</table>\n",
       "<p>5 rows × 33 columns</p>\n",
       "</div>"
      ],
      "text/plain": [
       "   Enquiry_id               EDate               Project  \\\n",
       "0       37293 2024-07-20 12:17:42        Sage Milestone   \n",
       "1       37292 2024-07-20 11:57:20        Sage Milestone   \n",
       "2       37291 2024-07-20 12:02:41        Sage Bungalows   \n",
       "3       37290 2024-07-20 11:53:38        Sage Milestone   \n",
       "4       37289 2024-07-20 11:51:34  Sage Nirvana Phase I   \n",
       "\n",
       "                                              Remark Result Final_Remark  \\\n",
       "0                                                NaN    NaN          NaN   \n",
       "1                       Interested in SMS/SN Dupplex    NaN          NaN   \n",
       "2                                                NaN    NaN          NaN   \n",
       "3                           interested in duplex SMS    NaN          NaN   \n",
       "4  Residential Enquiry From Website Google Landin...    NaN          NaN   \n",
       "\n",
       "                                             Remark1 HandledByEmployee  \\\n",
       "0  HE EFFFORT 30K EME 5L DOWNPAMNT...SMS SUGGUST ...      Faizal Ahmad   \n",
       "1  discussion done and interested in duplex will ...     Neeraj Kamboj   \n",
       "2  want bungalow suggested our sage projects will...       Manju Ingle   \n",
       "3  interested in duplex 810 sq ft all detals send...     Neeraj Kamboj   \n",
       "4  Residential Enquiry From Website Google Landin...   Pragati Kashyap   \n",
       "\n",
       "          FollowUp_Date Followup_Employee  ... Primary_Source  \\\n",
       "0  20 Jul 2024 12:18:44      Faizal Ahmad  ...            NaN   \n",
       "1  20 Jul 2024 12:24:33     Neeraj Kamboj  ...            NaN   \n",
       "2  20 Jul 2024 12:04:24       Manju Ingle  ...            NaN   \n",
       "3  20 Jul 2024 11:55:34     Neeraj Kamboj  ...            NaN   \n",
       "4  20 Jul 2024 11:51:35   Pragati Kashyap  ...        Digital   \n",
       "\n",
       "  Secondary_Source     Source_Of_Information CustomerType  \\\n",
       "0              NaN                       NaN          NaN   \n",
       "1              NaN                       NaN          NaN   \n",
       "2              NaN                       NaN          NaN   \n",
       "3              NaN                       NaN          NaN   \n",
       "4       Google Ads  Google - Website Landing          NaN   \n",
       "\n",
       "            EnquiryStage Enquiry_Status Enquiry Conclusion Date  \\\n",
       "0      Lead Confirmation           Open                     NaN   \n",
       "1                Enquiry           Open                     NaN   \n",
       "2  Site Visit - Proposed           Open                     NaN   \n",
       "3                Enquiry           Open                     NaN   \n",
       "4                Enquiry           Open                     NaN   \n",
       "\n",
       "        StageChangeDate    Last_Approach_Date Filtered_Date  \n",
       "0  20 Jul 2024 00:00:00                   NaN   20-Jul-2024  \n",
       "1  20 Jul 2024 00:00:00                   NaN   20-Jul-2024  \n",
       "2  20 Jul 2024 00:00:00                   NaN   20-Jul-2024  \n",
       "3  20 Jul 2024 00:00:00                   NaN   20-Jul-2024  \n",
       "4  20 Jul 2024 11:51:34  20 Jul 2024 11:51:35   20-Jul-2024  \n",
       "\n",
       "[5 rows x 33 columns]"
      ]
     },
     "execution_count": 13,
     "metadata": {},
     "output_type": "execute_result"
    }
   ],
   "source": [
    "df.head(5)"
   ]
  },
  {
   "cell_type": "code",
   "execution_count": 14,
   "metadata": {},
   "outputs": [
    {
     "name": "stderr",
     "output_type": "stream",
     "text": [
      "C:\\Users\\virtu\\AppData\\Local\\Temp\\ipykernel_15212\\996824532.py:1: FutureWarning: A value is trying to be set on a copy of a DataFrame or Series through chained assignment using an inplace method.\n",
      "The behavior will change in pandas 3.0. This inplace method will never work because the intermediate object on which we are setting values always behaves as a copy.\n",
      "\n",
      "For example, when doing 'df[col].method(value, inplace=True)', try using 'df.method({col: value}, inplace=True)' or df[col] = df[col].method(value) instead, to perform the operation inplace on the original object.\n",
      "\n",
      "\n",
      "  df['FollowUp_Date'].ffill(inplace=True)\n",
      "C:\\Users\\virtu\\AppData\\Local\\Temp\\ipykernel_15212\\996824532.py:2: FutureWarning: A value is trying to be set on a copy of a DataFrame or Series through chained assignment using an inplace method.\n",
      "The behavior will change in pandas 3.0. This inplace method will never work because the intermediate object on which we are setting values always behaves as a copy.\n",
      "\n",
      "For example, when doing 'df[col].method(value, inplace=True)', try using 'df.method({col: value}, inplace=True)' or df[col] = df[col].method(value) instead, to perform the operation inplace on the original object.\n",
      "\n",
      "\n",
      "  df['FollowUp_Mode'].fillna(df['FollowUp_Mode'].mode()[0], inplace=True)\n"
     ]
    }
   ],
   "source": [
    "df['FollowUp_Date'].ffill(inplace=True)\n",
    "df['FollowUp_Mode'].fillna(df['FollowUp_Mode'].mode()[0], inplace=True)\n"
   ]
  },
  {
   "cell_type": "code",
   "execution_count": 15,
   "metadata": {},
   "outputs": [],
   "source": [
    "df['EDate'] = pd.to_datetime(df['EDate'])\n",
    "df['FollowUp_Date'] = pd.to_datetime(df['FollowUp_Date'])\n",
    "df['Next_FollowUp1'] = pd.to_datetime(df['Next_FollowUp1'])"
   ]
  },
  {
   "cell_type": "code",
   "execution_count": 16,
   "metadata": {},
   "outputs": [],
   "source": [
    "def fill_next_followup(row):\n",
    "    if pd.isna(row['Next_FollowUp1']):\n",
    "        if row['FollowUp_Mode'] == 'Telephonic':\n",
    "            return row['FollowUp_Date'] + timedelta(days=2)\n",
    "        else:\n",
    "            return row['FollowUp_Date'] + timedelta(days=np.random.randint(1, 6))\n",
    "    else:\n",
    "        return row['Next_FollowUp1']\n"
   ]
  },
  {
   "cell_type": "code",
   "execution_count": 17,
   "metadata": {},
   "outputs": [
    {
     "name": "stderr",
     "output_type": "stream",
     "text": [
      "C:\\Users\\virtu\\AppData\\Local\\Temp\\ipykernel_15212\\1512571240.py:2: FutureWarning: A value is trying to be set on a copy of a DataFrame or Series through chained assignment using an inplace method.\n",
      "The behavior will change in pandas 3.0. This inplace method will never work because the intermediate object on which we are setting values always behaves as a copy.\n",
      "\n",
      "For example, when doing 'df[col].method(value, inplace=True)', try using 'df.method({col: value}, inplace=True)' or df[col] = df[col].method(value) instead, to perform the operation inplace on the original object.\n",
      "\n",
      "\n",
      "  df['CustomerGrade'].fillna('Unknown',inplace=True)\n"
     ]
    }
   ],
   "source": [
    "df['Next_FollowUp1'] = df.apply(fill_next_followup, axis=1)\n",
    "df['CustomerGrade'].fillna('Unknown',inplace=True)"
   ]
  },
  {
   "cell_type": "code",
   "execution_count": 18,
   "metadata": {},
   "outputs": [],
   "source": [
    "df = df.drop('UNITTYPENM',axis=1)"
   ]
  },
  {
   "cell_type": "code",
   "execution_count": 19,
   "metadata": {},
   "outputs": [],
   "source": [
    "unique_projects = df.Project.unique()"
   ]
  },
  {
   "cell_type": "code",
   "execution_count": 20,
   "metadata": {},
   "outputs": [
    {
     "name": "stdout",
     "output_type": "stream",
     "text": [
      "['Sage Milestone' 'Sage Bungalows' 'Sage Nirvana Phase I' nan\n",
      " 'Sage Golden Spring' 'Sage Sun Villas' 'Sage Sun City - Phase-I'\n",
      " 'Sage Milestone Phase-I C' 'Sage Nirvana Phase II'\n",
      " 'Sagar Pearl - Phase-II' 'vrandawanTrainingProject'\n",
      " 'Sage Golden Spring - Phase-II & IV' 'A SAMPLE  PROJECT 3'\n",
      " 'Sage Heritage - Phase-III' 'Sage Milestone Phase-I A'\n",
      " 'Sage Golden Spring - Phase-III' 'Sage Heritage - Phase-II'\n",
      " 'Sage Heritage - Phase-I']\n"
     ]
    }
   ],
   "source": [
    "print(unique_projects)"
   ]
  },
  {
   "cell_type": "code",
   "execution_count": 21,
   "metadata": {},
   "outputs": [],
   "source": [
    "# project_maping = {key:None for key in unique_projects}\n",
    "\n",
    "# print(project_maping)"
   ]
  },
  {
   "cell_type": "code",
   "execution_count": 22,
   "metadata": {},
   "outputs": [],
   "source": [
    "project_mapping = {'Sage Milestone': 'Hoshangabad Road', \n",
    "                  'Sage Bungalows': 'Kolar Road', \n",
    "                  'Sage Nirvana Phase I': 'Hoshangabad Road',\n",
    "                  'Unknown': 'Unknown', \n",
    "                  'Sage Golden Spring': 'Ayodhya Bypass', \n",
    "                  'Sage Sun Villas': 'Katara Hills', \n",
    "                  'Sage Sun City - Phase-I': 'Katara Hills', \n",
    "                  'Sage Milestone Phase-I C': 'Hoshangabad Road',\n",
    "                  'Sage Nirvana Phase II': 'Hoshangabad Road', \n",
    "                  'Sagar Pearl - Phase-II': 'Hoshangabad Road',\n",
    "                  'Sage Golden Spring - Phase-II & IV': 'Ayodhya Bypass',\n",
    "                  'Sage Heritage - Phase-III': 'Bawadiya Kalan',\n",
    "                  'Sage Milestone Phase-I A': 'Hoshangabad Road', \n",
    "                  'Sage Golden Spring - Phase-III': 'Ayodhya Bypass',\n",
    "                  'Sage Heritage - Phase-II': 'Bawadiya Kalan', \n",
    "                  'Sage Heritage - Phase-I': 'Bawadiya Kalan'}\n"
   ]
  },
  {
   "cell_type": "code",
   "execution_count": 23,
   "metadata": {},
   "outputs": [],
   "source": [
    "def update_project(row, proj_dict):\n",
    "    remark = row['Remark']\n",
    "    if pd.isna(remark):\n",
    "        return row['Project']  # Return the existing project if remark is NaN\n",
    "    remark = str(remark)  # Convert remark to string if it's not already\n",
    "    for key in proj_dict.keys():\n",
    "        if key in remark:\n",
    "            return key\n",
    "    for value in proj_dict.values():\n",
    "        if value in remark:\n",
    "            for k, v in proj_dict.items():\n",
    "                if v == value:\n",
    "                    return k\n",
    "    return row['Project']"
   ]
  },
  {
   "cell_type": "code",
   "execution_count": 24,
   "metadata": {},
   "outputs": [],
   "source": [
    "df['Project'] = df.apply(lambda row: update_project(row, project_mapping), axis=1)"
   ]
  },
  {
   "cell_type": "code",
   "execution_count": 25,
   "metadata": {},
   "outputs": [
    {
     "name": "stderr",
     "output_type": "stream",
     "text": [
      "C:\\Users\\virtu\\AppData\\Local\\Temp\\ipykernel_15212\\2333081419.py:1: FutureWarning: A value is trying to be set on a copy of a DataFrame or Series through chained assignment using an inplace method.\n",
      "The behavior will change in pandas 3.0. This inplace method will never work because the intermediate object on which we are setting values always behaves as a copy.\n",
      "\n",
      "For example, when doing 'df[col].method(value, inplace=True)', try using 'df.method({col: value}, inplace=True)' or df[col] = df[col].method(value) instead, to perform the operation inplace on the original object.\n",
      "\n",
      "\n",
      "  df['Project'].fillna('Unknown',inplace=True)\n"
     ]
    }
   ],
   "source": [
    "df['Project'].fillna('Unknown',inplace=True)\n"
   ]
  },
  {
   "cell_type": "code",
   "execution_count": 26,
   "metadata": {},
   "outputs": [
    {
     "name": "stderr",
     "output_type": "stream",
     "text": [
      "C:\\Users\\virtu\\AppData\\Local\\Temp\\ipykernel_15212\\1641223859.py:2: FutureWarning: A value is trying to be set on a copy of a DataFrame or Series through chained assignment using an inplace method.\n",
      "The behavior will change in pandas 3.0. This inplace method will never work because the intermediate object on which we are setting values always behaves as a copy.\n",
      "\n",
      "For example, when doing 'df[col].method(value, inplace=True)', try using 'df.method({col: value}, inplace=True)' or df[col] = df[col].method(value) instead, to perform the operation inplace on the original object.\n",
      "\n",
      "\n",
      "  df['Location'].fillna('Unknown',inplace=True)\n"
     ]
    }
   ],
   "source": [
    "df['Location'] = df['Project'].map(project_mapping)\n",
    "df['Location'].fillna('Unknown',inplace=True)\n"
   ]
  },
  {
   "cell_type": "code",
   "execution_count": 27,
   "metadata": {},
   "outputs": [
    {
     "name": "stderr",
     "output_type": "stream",
     "text": [
      "C:\\Users\\virtu\\AppData\\Local\\Temp\\ipykernel_15212\\3005197948.py:1: FutureWarning: A value is trying to be set on a copy of a DataFrame or Series through chained assignment using an inplace method.\n",
      "The behavior will change in pandas 3.0. This inplace method will never work because the intermediate object on which we are setting values always behaves as a copy.\n",
      "\n",
      "For example, when doing 'df[col].method(value, inplace=True)', try using 'df.method({col: value}, inplace=True)' or df[col] = df[col].method(value) instead, to perform the operation inplace on the original object.\n",
      "\n",
      "\n",
      "  df['Budget'].fillna('Unknown',inplace=True)\n"
     ]
    }
   ],
   "source": [
    "df['Budget'].fillna('Unknown',inplace=True)"
   ]
  },
  {
   "cell_type": "code",
   "execution_count": 28,
   "metadata": {},
   "outputs": [],
   "source": [
    "df = df.drop(['Campaign','Primary_Source','Secondary_Source','Source_Of_Information'],axis=1)\n"
   ]
  },
  {
   "cell_type": "code",
   "execution_count": 29,
   "metadata": {},
   "outputs": [
    {
     "name": "stderr",
     "output_type": "stream",
     "text": [
      "C:\\Users\\virtu\\AppData\\Local\\Temp\\ipykernel_15212\\3680034639.py:1: FutureWarning: A value is trying to be set on a copy of a DataFrame or Series through chained assignment using an inplace method.\n",
      "The behavior will change in pandas 3.0. This inplace method will never work because the intermediate object on which we are setting values always behaves as a copy.\n",
      "\n",
      "For example, when doing 'df[col].method(value, inplace=True)', try using 'df.method({col: value}, inplace=True)' or df[col] = df[col].method(value) instead, to perform the operation inplace on the original object.\n",
      "\n",
      "\n",
      "  df['Source'].fillna('Unknown',inplace=True)\n",
      "C:\\Users\\virtu\\AppData\\Local\\Temp\\ipykernel_15212\\3680034639.py:2: FutureWarning: A value is trying to be set on a copy of a DataFrame or Series through chained assignment using an inplace method.\n",
      "The behavior will change in pandas 3.0. This inplace method will never work because the intermediate object on which we are setting values always behaves as a copy.\n",
      "\n",
      "For example, when doing 'df[col].method(value, inplace=True)', try using 'df.method({col: value}, inplace=True)' or df[col] = df[col].method(value) instead, to perform the operation inplace on the original object.\n",
      "\n",
      "\n",
      "  df['Enquirytype'].fillna('Unknown',inplace=True)\n"
     ]
    }
   ],
   "source": [
    "df['Source'].fillna('Unknown',inplace=True)\n",
    "df['Enquirytype'].fillna('Unknown',inplace=True)"
   ]
  },
  {
   "cell_type": "code",
   "execution_count": 30,
   "metadata": {},
   "outputs": [],
   "source": [
    "df = df.drop(['CustomerType'],axis=1)\n",
    "df = df.drop(['Result'],axis=1)"
   ]
  },
  {
   "cell_type": "code",
   "execution_count": 31,
   "metadata": {},
   "outputs": [],
   "source": [
    "df = df.drop(['Enquiry_id'],axis=1)\n",
    "df = df.drop(['Final_Remark'],axis=1)\n",
    "df = df.drop(['Followup_Employee'],axis=1)\n",
    "df = df.drop(['Approach_Followup_Employee'],axis=1)\n",
    "df = df.drop(['Next_Followup_Employee'],axis=1)\n",
    "df = df.drop(['Enquirytype'],axis=1)\n",
    "df = df.drop(['Enquiry Conclusion Date'],axis=1)\n",
    "df = df.drop(['Filtered_Date'],axis=1)\n",
    "df = df.drop(['Last_Approach_Date'],axis=1)"
   ]
  },
  {
   "cell_type": "code",
   "execution_count": 32,
   "metadata": {},
   "outputs": [],
   "source": [
    "enquiry_status_stage = df[['Enquiry_Status', 'EnquiryStage']]\n"
   ]
  },
  {
   "cell_type": "code",
   "execution_count": 33,
   "metadata": {},
   "outputs": [],
   "source": [
    "filtered_data = enquiry_status_stage[(enquiry_status_stage['Enquiry_Status'] == 'Booked') & (enquiry_status_stage['EnquiryStage'].notna())]\n",
    "enquiry_stage_list = filtered_data['EnquiryStage'].tolist()"
   ]
  },
  {
   "cell_type": "code",
   "execution_count": 34,
   "metadata": {},
   "outputs": [],
   "source": [
    "enquiry_stage = []\n",
    "for i in enquiry_stage_list:\n",
    "    if i not in enquiry_stage:\n",
    "        enquiry_stage.append(i)\n",
    "    else:\n",
    "        pass"
   ]
  },
  {
   "cell_type": "code",
   "execution_count": 35,
   "metadata": {},
   "outputs": [
    {
     "name": "stdout",
     "output_type": "stream",
     "text": [
      "['Finalization', 'Negotiation - Proposed', 'Enquiry', 'Office Visit - Done', 'Site Visit - Done', 'Negotiation', 'Lead Confirmation', 'Site Visit - Proposed', 'Home Visit - Done']\n"
     ]
    }
   ],
   "source": [
    "print(enquiry_stage)"
   ]
  },
  {
   "cell_type": "code",
   "execution_count": 36,
   "metadata": {},
   "outputs": [
    {
     "name": "stdout",
     "output_type": "stream",
     "text": [
      "Lead Confirmation\n",
      "Finalization\n",
      "Negotiation\n",
      "Office Visit - Done\n",
      "Site Visit - Done\n",
      "Site Visit - Proposed\n",
      "Site Visit - Proposed\n",
      "Site Visit - Done\n",
      "Negotiation\n"
     ]
    }
   ],
   "source": [
    "for i in range(len(enquiry_stage)):\n",
    "    print(np.random.choice(enquiry_stage))"
   ]
  },
  {
   "cell_type": "code",
   "execution_count": 37,
   "metadata": {},
   "outputs": [],
   "source": [
    "def update_Estage(row):\n",
    "    if pd.isna(row['EnquiryStage']):\n",
    "        if row['Enquiry_Status'] == 'Booked':\n",
    "            return random.choice(enquiry_stage)\n",
    "        else:\n",
    "            return row['EnquiryStage']\n",
    "    else:\n",
    "        return row['EnquiryStage']\n"
   ]
  },
  {
   "cell_type": "code",
   "execution_count": 38,
   "metadata": {},
   "outputs": [
    {
     "name": "stderr",
     "output_type": "stream",
     "text": [
      "C:\\Users\\virtu\\AppData\\Local\\Temp\\ipykernel_15212\\1829650043.py:1: FutureWarning: A value is trying to be set on a copy of a DataFrame or Series through chained assignment using an inplace method.\n",
      "The behavior will change in pandas 3.0. This inplace method will never work because the intermediate object on which we are setting values always behaves as a copy.\n",
      "\n",
      "For example, when doing 'df[col].method(value, inplace=True)', try using 'df.method({col: value}, inplace=True)' or df[col] = df[col].method(value) instead, to perform the operation inplace on the original object.\n",
      "\n",
      "\n",
      "  df['EnquiryStage'].fillna('Unknown',inplace=True)\n"
     ]
    }
   ],
   "source": [
    "df['EnquiryStage'].fillna('Unknown',inplace=True)"
   ]
  },
  {
   "cell_type": "code",
   "execution_count": 39,
   "metadata": {},
   "outputs": [],
   "source": [
    "df['Remark1'] = df['Remark1'].fillna(df['Remark'])"
   ]
  },
  {
   "cell_type": "code",
   "execution_count": 40,
   "metadata": {},
   "outputs": [
    {
     "name": "stderr",
     "output_type": "stream",
     "text": [
      "C:\\Users\\virtu\\AppData\\Local\\Temp\\ipykernel_15212\\1155670758.py:1: FutureWarning: A value is trying to be set on a copy of a DataFrame or Series through chained assignment using an inplace method.\n",
      "The behavior will change in pandas 3.0. This inplace method will never work because the intermediate object on which we are setting values always behaves as a copy.\n",
      "\n",
      "For example, when doing 'df[col].method(value, inplace=True)', try using 'df.method({col: value}, inplace=True)' or df[col] = df[col].method(value) instead, to perform the operation inplace on the original object.\n",
      "\n",
      "\n",
      "  df['Remark1'].fillna('Unknown',inplace=True)\n",
      "C:\\Users\\virtu\\AppData\\Local\\Temp\\ipykernel_15212\\1155670758.py:2: FutureWarning: A value is trying to be set on a copy of a DataFrame or Series through chained assignment using an inplace method.\n",
      "The behavior will change in pandas 3.0. This inplace method will never work because the intermediate object on which we are setting values always behaves as a copy.\n",
      "\n",
      "For example, when doing 'df[col].method(value, inplace=True)', try using 'df.method({col: value}, inplace=True)' or df[col] = df[col].method(value) instead, to perform the operation inplace on the original object.\n",
      "\n",
      "\n",
      "  df['Occupation'].fillna('Unknown',inplace=True)\n"
     ]
    }
   ],
   "source": [
    "df['Remark1'].fillna('Unknown',inplace=True)\n",
    "df['Occupation'].fillna('Unknown',inplace=True)"
   ]
  },
  {
   "cell_type": "code",
   "execution_count": 41,
   "metadata": {},
   "outputs": [],
   "source": [
    "df = df.drop(['Remark'],axis=1)\n",
    "df = df.drop(['StageChangeDate'],axis=1)"
   ]
  },
  {
   "cell_type": "code",
   "execution_count": 42,
   "metadata": {},
   "outputs": [
    {
     "data": {
      "text/plain": [
       "Text(0.5, 1.0, 'Distribution of EDate')"
      ]
     },
     "execution_count": 42,
     "metadata": {},
     "output_type": "execute_result"
    },
    {
     "data": {
      "image/png": "[encoded data removed]",
      "text/plain": [
       "<Figure size 1500x1000 with 1 Axes>"
      ]
     },
     "metadata": {},
     "output_type": "display_data"
    }
   ],
   "source": [
    "\n",
    "# Distribution of Dates\n",
    "plt.figure(figsize=(15, 10))\n",
    "plt.subplot(3, 1, 1)\n",
    "df['EDate'].hist(bins=50, alpha=0.7, label='EDate')\n",
    "plt.legend()\n",
    "plt.title('Distribution of EDate')"
   ]
  },
  {
   "cell_type": "code",
   "execution_count": 43,
   "metadata": {},
   "outputs": [
    {
     "data": {
      "text/plain": [
       "Text(0.5, 1.0, 'Distribution of FollowUp_Date')"
      ]
     },
     "execution_count": 43,
     "metadata": {},
     "output_type": "execute_result"
    },
    {
     "data": {
      "image/png": "[encoded data removed]",
      "text/plain": [
       "<Figure size 640x480 with 1 Axes>"
      ]
     },
     "metadata": {},
     "output_type": "display_data"
    }
   ],
   "source": [
    "plt.subplot(3, 1, 2)\n",
    "df['FollowUp_Date'].hist(bins=50, alpha=0.7, label='FollowUp_Date')\n",
    "plt.legend()\n",
    "plt.title('Distribution of FollowUp_Date')"
   ]
  },
  {
   "cell_type": "code",
   "execution_count": null,
   "metadata": {},
   "outputs": [],
   "source": []
  },
  {
   "cell_type": "code",
   "execution_count": 44,
   "metadata": {},
   "outputs": [
    {
     "data": {
      "text/plain": [
       "Enquiry_Status\n",
       "Closed    14219\n",
       "Open      11622\n",
       "Booked      773\n",
       "Name: count, dtype: int64"
      ]
     },
     "execution_count": 44,
     "metadata": {},
     "output_type": "execute_result"
    }
   ],
   "source": [
    "df['Enquiry_Status'].value_counts()\n"
   ]
  },
  {
   "cell_type": "code",
   "execution_count": 45,
   "metadata": {},
   "outputs": [],
   "source": [
    "date_cols = ['EDate', 'FollowUp_Date', 'Next_FollowUp1']\n",
    "for col in date_cols:\n",
    "    df[col] = pd.to_datetime(df[col], errors='coerce')\n"
   ]
  },
  {
   "cell_type": "code",
   "execution_count": 46,
   "metadata": {},
   "outputs": [],
   "source": [
    "# Extract features from date columns\n",
    "# for col in date_cols:\n",
    "#     df[f'{col}_year'] = df[col].dt.year\n",
    "#     df[f'{col}_month'] = df[col].dt.month\n",
    "#     df[f'{col}_day'] = df[col].dt.day\n",
    "#     df[f'{col}_hour'] = df[col].dt.hour\n",
    "#     df[f'{col}_minute'] = df[col].dt.minute\n",
    "#     df[f'{col}_second'] = df[col].dt.second\n"
   ]
  },
  {
   "cell_type": "code",
   "execution_count": 47,
   "metadata": {},
   "outputs": [],
   "source": [
    "# Drop original date columns\n",
    "# df = df.drop(columns=date_cols)\n",
    "\n"
   ]
  },
  {
   "cell_type": "code",
   "execution_count": 48,
   "metadata": {},
   "outputs": [],
   "source": [
    "class DateTimeTransformer(BaseEstimator, TransformerMixin):\n",
    "    def __init__(self, columns):\n",
    "        self.columns = columns\n",
    "    \n",
    "    def fit(self, X, y=None):\n",
    "        return self\n",
    "    \n",
    "    def transform(self, X):\n",
    "        X = X.copy()\n",
    "        for col in self.columns:\n",
    "            X[col] = pd.to_datetime(X[col], errors='coerce')\n",
    "            X[col + '_year'] = X[col].dt.year.fillna(0).astype(int)\n",
    "            X[col + '_month'] = X[col].dt.month.fillna(0).astype(int)\n",
    "            X[col + '_day'] = X[col].dt.day.fillna(0).astype(int)\n",
    "            X[col + '_hour'] = X[col].dt.hour.fillna(0).astype(int)\n",
    "            X.drop(columns=[col], inplace=True)\n",
    "        return X"
   ]
  },
  {
   "cell_type": "code",
   "execution_count": 49,
   "metadata": {},
   "outputs": [],
   "source": [
    "# Convert 'Budget' column to numerical format\n",
    "def convert_budget(budget_str):\n",
    "    if pd.isnull(budget_str) or budget_str == 'Unknown':\n",
    "        return None\n",
    "    budget_str = budget_str.replace('Lakh', '').replace('Cr', '').replace('& Above', '').strip()\n",
    "    if '-' in budget_str:\n",
    "        lower, upper = map(float, budget_str.split('-'))\n",
    "        return (lower + upper) / 2 * 1e5  # Convert to numerical value in Lakhs\n",
    "    else:\n",
    "        return float(budget_str) * 1e7  # Convert to numerical value in Crores\n"
   ]
  },
  {
   "cell_type": "code",
   "execution_count": 50,
   "metadata": {},
   "outputs": [],
   "source": [
    "df['Budget'] = df['Budget'].apply(convert_budget)\n"
   ]
  },
  {
   "cell_type": "code",
   "execution_count": 51,
   "metadata": {},
   "outputs": [
    {
     "name": "stderr",
     "output_type": "stream",
     "text": [
      "C:\\Users\\virtu\\AppData\\Local\\Temp\\ipykernel_15212\\1989036808.py:2: FutureWarning: A value is trying to be set on a copy of a DataFrame or Series through chained assignment using an inplace method.\n",
      "The behavior will change in pandas 3.0. This inplace method will never work because the intermediate object on which we are setting values always behaves as a copy.\n",
      "\n",
      "For example, when doing 'df[col].method(value, inplace=True)', try using 'df.method({col: value}, inplace=True)' or df[col] = df[col].method(value) instead, to perform the operation inplace on the original object.\n",
      "\n",
      "\n",
      "  df['Budget'].fillna(mean_budget, inplace=True)\n"
     ]
    }
   ],
   "source": [
    "mean_budget = df['Budget'].mean()\n",
    "df['Budget'].fillna(mean_budget, inplace=True)\n"
   ]
  },
  {
   "cell_type": "code",
   "execution_count": 52,
   "metadata": {},
   "outputs": [],
   "source": [
    "# df['days_since_last_approach'] = (df['EDate'] - df['Last_Approach_Date']).dt.days\n"
   ]
  },
  {
   "cell_type": "code",
   "execution_count": 53,
   "metadata": {},
   "outputs": [],
   "source": [
    "df['is_booked'] = df['Enquiry_Status'].apply(lambda x: 1 if x == 'Booked' else 0)\n"
   ]
  },
  {
   "cell_type": "code",
   "execution_count": 54,
   "metadata": {},
   "outputs": [],
   "source": [
    "# Split data\n",
    "booked_df = df[df['is_booked'] == 1]\n",
    "non_booked_df = df[df['is_booked'] == 0]"
   ]
  },
  {
   "cell_type": "code",
   "execution_count": 55,
   "metadata": {},
   "outputs": [],
   "source": [
    "# Separate 'Booked' rows\n",
    "booked_df = df[df['Enquiry_Status'] == 'Booked']\n",
    "non_booked_df = df[df['Enquiry_Status'] != 'Booked']\n"
   ]
  },
  {
   "cell_type": "code",
   "execution_count": 56,
   "metadata": {},
   "outputs": [],
   "source": [
    "# Split 'Booked' rows: 80% train, 10% validation, 10% test\n",
    "booked_train, booked_temp = train_test_split(booked_df, test_size=0.2, random_state=42)\n",
    "booked_val, booked_test = train_test_split(booked_temp, test_size=0.5, random_state=42)\n"
   ]
  },
  {
   "cell_type": "code",
   "execution_count": 57,
   "metadata": {},
   "outputs": [],
   "source": [
    "# Split remaining data: 80% train, 10% validation, 10% test\n",
    "non_booked_train, non_booked_temp = train_test_split(non_booked_df, test_size=0.2, random_state=42)\n",
    "non_booked_val, non_booked_test = train_test_split(non_booked_temp, test_size=0.5, random_state=42)\n"
   ]
  },
  {
   "cell_type": "code",
   "execution_count": 58,
   "metadata": {},
   "outputs": [],
   "source": [
    "# Combine the splits\n",
    "train_df = pd.concat([booked_train, non_booked_train])\n",
    "val_df = pd.concat([booked_val, non_booked_val])\n",
    "test_df = pd.concat([booked_test, non_booked_test])\n"
   ]
  },
  {
   "cell_type": "code",
   "execution_count": 59,
   "metadata": {},
   "outputs": [],
   "source": [
    "#distribution in splits\n",
    "train_dist = train_df['Enquiry_Status'].value_counts()\n",
    "val_dist = val_df['Enquiry_Status'].value_counts()\n",
    "test_dist = test_df['Enquiry_Status'].value_counts()\n"
   ]
  },
  {
   "cell_type": "code",
   "execution_count": 60,
   "metadata": {},
   "outputs": [
    {
     "data": {
      "text/plain": [
       "(Enquiry_Status\n",
       " Closed    11341\n",
       " Open       9331\n",
       " Booked      618\n",
       " Name: count, dtype: int64,\n",
       " Enquiry_Status\n",
       " Closed    1433\n",
       " Open      1151\n",
       " Booked      77\n",
       " Name: count, dtype: int64,\n",
       " Enquiry_Status\n",
       " Closed    1445\n",
       " Open      1140\n",
       " Booked      78\n",
       " Name: count, dtype: int64)"
      ]
     },
     "execution_count": 60,
     "metadata": {},
     "output_type": "execute_result"
    }
   ],
   "source": [
    "train_dist, val_dist, test_dist\n"
   ]
  },
  {
   "cell_type": "code",
   "execution_count": 61,
   "metadata": {},
   "outputs": [],
   "source": [
    "# Define target variable and features\n",
    "target = 'is_booked'\n",
    "features = ['EDate', 'Project', 'Remark1', 'HandledByEmployee', 'FollowUp_Date', \n",
    "            'FollowUp_Mode', 'Next_FollowUp1', 'CustomerGrade', 'Marital_Status',\n",
    "            'Occupation', 'Location', 'Budget', 'Source', 'EnquiryStage']\n"
   ]
  },
  {
   "cell_type": "code",
   "execution_count": 62,
   "metadata": {},
   "outputs": [],
   "source": [
    "X_train = train_df[features]\n",
    "y_train = train_df[target]\n",
    "X_val = val_df[features]\n",
    "y_val = val_df[target]\n",
    "X_test = test_df[features]\n",
    "y_test = test_df[target]\n"
   ]
  },
  {
   "cell_type": "code",
   "execution_count": 63,
   "metadata": {},
   "outputs": [],
   "source": [
    "numeric_features = ['Budget']\n",
    "numeric_transformer = Pipeline(steps=[\n",
    "    ('imputer', SimpleImputer(strategy='mean')),\n",
    "    ('scaler', StandardScaler())])\n"
   ]
  },
  {
   "cell_type": "code",
   "execution_count": 64,
   "metadata": {},
   "outputs": [],
   "source": [
    "categorical_features = ['Project', 'FollowUp_Mode', 'CustomerGrade', 'Marital_Status', \n",
    "                        'Source', 'EnquiryStage', 'Occupation', 'Location']"
   ]
  },
  {
   "cell_type": "code",
   "execution_count": 65,
   "metadata": {},
   "outputs": [],
   "source": [
    "categorical_transformer = Pipeline(steps=[\n",
    "    ('imputer', SimpleImputer(strategy='most_frequent')),\n",
    "    ('onehot', OneHotEncoder(handle_unknown='ignore'))])"
   ]
  },
  {
   "cell_type": "code",
   "execution_count": 66,
   "metadata": {},
   "outputs": [],
   "source": [
    "# date_features = ['EDate', 'FollowUp_Date', 'Next_FollowUp1']\n",
    "datetime_columns = ['EDate', 'FollowUp_Date', 'Next_FollowUp1']\n"
   ]
  },
  {
   "cell_type": "code",
   "execution_count": 67,
   "metadata": {},
   "outputs": [],
   "source": [
    "# Define the preprocessing pipeline\n",
    "preprocessor = Pipeline(steps=[\n",
    "    ('datetime', DateTimeTransformer(datetime_columns)),\n",
    "    ('imputer', SimpleImputer(strategy='most_frequent')),\n",
    "    ('encoder', OneHotEncoder(handle_unknown='ignore'))\n",
    "])"
   ]
  },
  {
   "cell_type": "code",
   "execution_count": 68,
   "metadata": {},
   "outputs": [],
   "source": [
    "# preprocessor = ColumnTransformer(\n",
    "#     transformers=[\n",
    "#         ('num', numeric_transformer, numeric_features),\n",
    "#         ('cat', categorical_transformer, categorical_features),\n",
    "#         ('date', date_transformer, date_features)\n",
    "#     ])"
   ]
  },
  {
   "cell_type": "code",
   "execution_count": 69,
   "metadata": {},
   "outputs": [],
   "source": [
    "# Define the complete pipeline\n",
    "model_pipeline = Pipeline(steps=[\n",
    "    ('preprocessor', preprocessor),\n",
    "    ('classifier', RandomForestClassifier())\n",
    "])"
   ]
  },
  {
   "cell_type": "code",
   "execution_count": 70,
   "metadata": {},
   "outputs": [],
   "source": [
    "param_grid = [\n",
    "    {\n",
    "        'classifier': [LogisticRegression(max_iter=1000)],\n",
    "        'classifier__C': [0.1, 1, 10]\n",
    "    },\n",
    "    {\n",
    "        'classifier': [RandomForestClassifier()],\n",
    "        'classifier__n_estimators': [50, 100, 200],\n",
    "        'classifier__max_depth': [None, 10, 20],\n",
    "        'classifier__min_samples_split': [2, 5, 10]\n",
    "    },\n",
    "    {\n",
    "        'classifier': [GradientBoostingClassifier()],\n",
    "        'classifier__n_estimators': [50, 100, 200],\n",
    "        'classifier__max_depth': [3, 5, 7],\n",
    "        'classifier__learning_rate': [0.01, 0.1, 0.2]\n",
    "    }\n",
    "]\n"
   ]
  },
  {
   "cell_type": "code",
   "execution_count": 71,
   "metadata": {},
   "outputs": [
    {
     "name": "stderr",
     "output_type": "stream",
     "text": [
      "v:\\Highrise\\Prediction\\myenv\\Lib\\site-packages\\sklearn\\metrics\\_scorer.py:610: FutureWarning: The `needs_threshold` and `needs_proba` parameter are deprecated in version 1.4 and will be removed in 1.6. You can either let `response_method` be `None` or set it to `predict` to preserve the same behaviour.\n",
      "  warnings.warn(\n"
     ]
    }
   ],
   "source": [
    "roc_auc_scorer = make_scorer(roc_auc_score, needs_proba=True)\n"
   ]
  },
  {
   "cell_type": "code",
   "execution_count": 72,
   "metadata": {},
   "outputs": [
    {
     "name": "stderr",
     "output_type": "stream",
     "text": [
      "v:\\Highrise\\Prediction\\myenv\\Lib\\site-packages\\numpy\\ma\\core.py:2820: RuntimeWarning: invalid value encountered in cast\n",
      "  _data = np.array(data, dtype=dtype, copy=copy,\n"
     ]
    },
    {
     "data": {
      "text/html": [
       "<style>#sk-container-id-1 {\n",
       "  /* Definition of color scheme common for light and dark mode */\n",
       "  --sklearn-color-text: black;\n",
       "  --sklearn-color-line: gray;\n",
       "  /* Definition of color scheme for unfitted estimators */\n",
       "  --sklearn-color-unfitted-level-0: #fff5e6;\n",
       "  --sklearn-color-unfitted-level-1: #f6e4d2;\n",
       "  --sklearn-color-unfitted-level-2: #ffe0b3;\n",
       "  --sklearn-color-unfitted-level-3: chocolate;\n",
       "  /* Definition of color scheme for fitted estimators */\n",
       "  --sklearn-color-fitted-level-0: #f0f8ff;\n",
       "  --sklearn-color-fitted-level-1: #d4ebff;\n",
       "  --sklearn-color-fitted-level-2: #b3dbfd;\n",
       "  --sklearn-color-fitted-level-3: cornflowerblue;\n",
       "\n",
       "  /* Specific color for light theme */\n",
       "  --sklearn-color-text-on-default-background: var(--sg-text-color, var(--theme-code-foreground, var(--jp-content-font-color1, black)));\n",
       "  --sklearn-color-background: var(--sg-background-color, var(--theme-background, var(--jp-layout-color0, white)));\n",
       "  --sklearn-color-border-box: var(--sg-text-color, var(--theme-code-foreground, var(--jp-content-font-color1, black)));\n",
       "  --sklearn-color-icon: #696969;\n",
       "\n",
       "  @media (prefers-color-scheme: dark) {\n",
       "    /* Redefinition of color scheme for dark theme */\n",
       "    --sklearn-color-text-on-default-background: var(--sg-text-color, var(--theme-code-foreground, var(--jp-content-font-color1, white)));\n",
       "    --sklearn-color-background: var(--sg-background-color, var(--theme-background, var(--jp-layout-color0, #111)));\n",
       "    --sklearn-color-border-box: var(--sg-text-color, var(--theme-code-foreground, var(--jp-content-font-color1, white)));\n",
       "    --sklearn-color-icon: #878787;\n",
       "  }\n",
       "}\n",
       "\n",
       "#sk-container-id-1 {\n",
       "  color: var(--sklearn-color-text);\n",
       "}\n",
       "\n",
       "#sk-container-id-1 pre {\n",
       "  padding: 0;\n",
       "}\n",
       "\n",
       "#sk-container-id-1 input.sk-hidden--visually {\n",
       "  border: 0;\n",
       "  clip: rect(1px 1px 1px 1px);\n",
       "  clip: rect(1px, 1px, 1px, 1px);\n",
       "  height: 1px;\n",
       "  margin: -1px;\n",
       "  overflow: hidden;\n",
       "  padding: 0;\n",
       "  position: absolute;\n",
       "  width: 1px;\n",
       "}\n",
       "\n",
       "#sk-container-id-1 div.sk-dashed-wrapped {\n",
       "  border: 1px dashed var(--sklearn-color-line);\n",
       "  margin: 0 0.4em 0.5em 0.4em;\n",
       "  box-sizing: border-box;\n",
       "  padding-bottom: 0.4em;\n",
       "  background-color: var(--sklearn-color-background);\n",
       "}\n",
       "\n",
       "#sk-container-id-1 div.sk-container {\n",
       "  /* jupyter's `normalize.less` sets `[hidden] { display: none; }`\n",
       "     but bootstrap.min.css set `[hidden] { display: none !important; }`\n",
       "     so we also need the `!important` here to be able to override the\n",
       "     default hidden behavior on the sphinx rendered scikit-learn.org.\n",
       "     See: https://github.com/scikit-learn/scikit-learn/issues/21755 */\n",
       "  display: inline-block !important;\n",
       "  position: relative;\n",
       "}\n",
       "\n",
       "#sk-container-id-1 div.sk-text-repr-fallback {\n",
       "  display: none;\n",
       "}\n",
       "\n",
       "div.sk-parallel-item,\n",
       "div.sk-serial,\n",
       "div.sk-item {\n",
       "  /* draw centered vertical line to link estimators */\n",
       "  background-image: linear-gradient(var(--sklearn-color-text-on-default-background), var(--sklearn-color-text-on-default-background));\n",
       "  background-size: 2px 100%;\n",
       "  background-repeat: no-repeat;\n",
       "  background-position: center center;\n",
       "}\n",
       "\n",
       "/* Parallel-specific style estimator block */\n",
       "\n",
       "#sk-container-id-1 div.sk-parallel-item::after {\n",
       "  content: \"\";\n",
       "  width: 100%;\n",
       "  border-bottom: 2px solid var(--sklearn-color-text-on-default-background);\n",
       "  flex-grow: 1;\n",
       "}\n",
       "\n",
       "#sk-container-id-1 div.sk-parallel {\n",
       "  display: flex;\n",
       "  align-items: stretch;\n",
       "  justify-content: center;\n",
       "  background-color: var(--sklearn-color-background);\n",
       "  position: relative;\n",
       "}\n",
       "\n",
       "#sk-container-id-1 div.sk-parallel-item {\n",
       "  display: flex;\n",
       "  flex-direction: column;\n",
       "}\n",
       "\n",
       "#sk-container-id-1 div.sk-parallel-item:first-child::after {\n",
       "  align-self: flex-end;\n",
       "  width: 50%;\n",
       "}\n",
       "\n",
       "#sk-container-id-1 div.sk-parallel-item:last-child::after {\n",
       "  align-self: flex-start;\n",
       "  width: 50%;\n",
       "}\n",
       "\n",
       "#sk-container-id-1 div.sk-parallel-item:only-child::after {\n",
       "  width: 0;\n",
       "}\n",
       "\n",
       "/* Serial-specific style estimator block */\n",
       "\n",
       "#sk-container-id-1 div.sk-serial {\n",
       "  display: flex;\n",
       "  flex-direction: column;\n",
       "  align-items: center;\n",
       "  background-color: var(--sklearn-color-background);\n",
       "  padding-right: 1em;\n",
       "  padding-left: 1em;\n",
       "}\n",
       "\n",
       "\n",
       "/* Toggleable style: style used for estimator/Pipeline/ColumnTransformer box that is\n",
       "clickable and can be expanded/collapsed.\n",
       "- Pipeline and ColumnTransformer use this feature and define the default style\n",
       "- Estimators will overwrite some part of the style using the `sk-estimator` class\n",
       "*/\n",
       "\n",
       "/* Pipeline and ColumnTransformer style (default) */\n",
       "\n",
       "#sk-container-id-1 div.sk-toggleable {\n",
       "  /* Default theme specific background. It is overwritten whether we have a\n",
       "  specific estimator or a Pipeline/ColumnTransformer */\n",
       "  background-color: var(--sklearn-color-background);\n",
       "}\n",
       "\n",
       "/* Toggleable label */\n",
       "#sk-container-id-1 label.sk-toggleable__label {\n",
       "  cursor: pointer;\n",
       "  display: block;\n",
       "  width: 100%;\n",
       "  margin-bottom: 0;\n",
       "  padding: 0.5em;\n",
       "  box-sizing: border-box;\n",
       "  text-align: center;\n",
       "}\n",
       "\n",
       "#sk-container-id-1 label.sk-toggleable__label-arrow:before {\n",
       "  /* Arrow on the left of the label */\n",
       "  content: \"▸\";\n",
       "  float: left;\n",
       "  margin-right: 0.25em;\n",
       "  color: var(--sklearn-color-icon);\n",
       "}\n",
       "\n",
       "#sk-container-id-1 label.sk-toggleable__label-arrow:hover:before {\n",
       "  color: var(--sklearn-color-text);\n",
       "}\n",
       "\n",
       "/* Toggleable content - dropdown */\n",
       "\n",
       "#sk-container-id-1 div.sk-toggleable__content {\n",
       "  max-height: 0;\n",
       "  max-width: 0;\n",
       "  overflow: hidden;\n",
       "  text-align: left;\n",
       "  /* unfitted */\n",
       "  background-color: var(--sklearn-color-unfitted-level-0);\n",
       "}\n",
       "\n",
       "#sk-container-id-1 div.sk-toggleable__content.fitted {\n",
       "  /* fitted */\n",
       "  background-color: var(--sklearn-color-fitted-level-0);\n",
       "}\n",
       "\n",
       "#sk-container-id-1 div.sk-toggleable__content pre {\n",
       "  margin: 0.2em;\n",
       "  border-radius: 0.25em;\n",
       "  color: var(--sklearn-color-text);\n",
       "  /* unfitted */\n",
       "  background-color: var(--sklearn-color-unfitted-level-0);\n",
       "}\n",
       "\n",
       "#sk-container-id-1 div.sk-toggleable__content.fitted pre {\n",
       "  /* unfitted */\n",
       "  background-color: var(--sklearn-color-fitted-level-0);\n",
       "}\n",
       "\n",
       "#sk-container-id-1 input.sk-toggleable__control:checked~div.sk-toggleable__content {\n",
       "  /* Expand drop-down */\n",
       "  max-height: 200px;\n",
       "  max-width: 100%;\n",
       "  overflow: auto;\n",
       "}\n",
       "\n",
       "#sk-container-id-1 input.sk-toggleable__control:checked~label.sk-toggleable__label-arrow:before {\n",
       "  content: \"▾\";\n",
       "}\n",
       "\n",
       "/* Pipeline/ColumnTransformer-specific style */\n",
       "\n",
       "#sk-container-id-1 div.sk-label input.sk-toggleable__control:checked~label.sk-toggleable__label {\n",
       "  color: var(--sklearn-color-text);\n",
       "  background-color: var(--sklearn-color-unfitted-level-2);\n",
       "}\n",
       "\n",
       "#sk-container-id-1 div.sk-label.fitted input.sk-toggleable__control:checked~label.sk-toggleable__label {\n",
       "  background-color: var(--sklearn-color-fitted-level-2);\n",
       "}\n",
       "\n",
       "/* Estimator-specific style */\n",
       "\n",
       "/* Colorize estimator box */\n",
       "#sk-container-id-1 div.sk-estimator input.sk-toggleable__control:checked~label.sk-toggleable__label {\n",
       "  /* unfitted */\n",
       "  background-color: var(--sklearn-color-unfitted-level-2);\n",
       "}\n",
       "\n",
       "#sk-container-id-1 div.sk-estimator.fitted input.sk-toggleable__control:checked~label.sk-toggleable__label {\n",
       "  /* fitted */\n",
       "  background-color: var(--sklearn-color-fitted-level-2);\n",
       "}\n",
       "\n",
       "#sk-container-id-1 div.sk-label label.sk-toggleable__label,\n",
       "#sk-container-id-1 div.sk-label label {\n",
       "  /* The background is the default theme color */\n",
       "  color: var(--sklearn-color-text-on-default-background);\n",
       "}\n",
       "\n",
       "/* On hover, darken the color of the background */\n",
       "#sk-container-id-1 div.sk-label:hover label.sk-toggleable__label {\n",
       "  color: var(--sklearn-color-text);\n",
       "  background-color: var(--sklearn-color-unfitted-level-2);\n",
       "}\n",
       "\n",
       "/* Label box, darken color on hover, fitted */\n",
       "#sk-container-id-1 div.sk-label.fitted:hover label.sk-toggleable__label.fitted {\n",
       "  color: var(--sklearn-color-text);\n",
       "  background-color: var(--sklearn-color-fitted-level-2);\n",
       "}\n",
       "\n",
       "/* Estimator label */\n",
       "\n",
       "#sk-container-id-1 div.sk-label label {\n",
       "  font-family: monospace;\n",
       "  font-weight: bold;\n",
       "  display: inline-block;\n",
       "  line-height: 1.2em;\n",
       "}\n",
       "\n",
       "#sk-container-id-1 div.sk-label-container {\n",
       "  text-align: center;\n",
       "}\n",
       "\n",
       "/* Estimator-specific */\n",
       "#sk-container-id-1 div.sk-estimator {\n",
       "  font-family: monospace;\n",
       "  border: 1px dotted var(--sklearn-color-border-box);\n",
       "  border-radius: 0.25em;\n",
       "  box-sizing: border-box;\n",
       "  margin-bottom: 0.5em;\n",
       "  /* unfitted */\n",
       "  background-color: var(--sklearn-color-unfitted-level-0);\n",
       "}\n",
       "\n",
       "#sk-container-id-1 div.sk-estimator.fitted {\n",
       "  /* fitted */\n",
       "  background-color: var(--sklearn-color-fitted-level-0);\n",
       "}\n",
       "\n",
       "/* on hover */\n",
       "#sk-container-id-1 div.sk-estimator:hover {\n",
       "  /* unfitted */\n",
       "  background-color: var(--sklearn-color-unfitted-level-2);\n",
       "}\n",
       "\n",
       "#sk-container-id-1 div.sk-estimator.fitted:hover {\n",
       "  /* fitted */\n",
       "  background-color: var(--sklearn-color-fitted-level-2);\n",
       "}\n",
       "\n",
       "/* Specification for estimator info (e.g. \"i\" and \"?\") */\n",
       "\n",
       "/* Common style for \"i\" and \"?\" */\n",
       "\n",
       ".sk-estimator-doc-link,\n",
       "a:link.sk-estimator-doc-link,\n",
       "a:visited.sk-estimator-doc-link {\n",
       "  float: right;\n",
       "  font-size: smaller;\n",
       "  line-height: 1em;\n",
       "  font-family: monospace;\n",
       "  background-color: var(--sklearn-color-background);\n",
       "  border-radius: 1em;\n",
       "  height: 1em;\n",
       "  width: 1em;\n",
       "  text-decoration: none !important;\n",
       "  margin-left: 1ex;\n",
       "  /* unfitted */\n",
       "  border: var(--sklearn-color-unfitted-level-1) 1pt solid;\n",
       "  color: var(--sklearn-color-unfitted-level-1);\n",
       "}\n",
       "\n",
       ".sk-estimator-doc-link.fitted,\n",
       "a:link.sk-estimator-doc-link.fitted,\n",
       "a:visited.sk-estimator-doc-link.fitted {\n",
       "  /* fitted */\n",
       "  border: var(--sklearn-color-fitted-level-1) 1pt solid;\n",
       "  color: var(--sklearn-color-fitted-level-1);\n",
       "}\n",
       "\n",
       "/* On hover */\n",
       "div.sk-estimator:hover .sk-estimator-doc-link:hover,\n",
       ".sk-estimator-doc-link:hover,\n",
       "div.sk-label-container:hover .sk-estimator-doc-link:hover,\n",
       ".sk-estimator-doc-link:hover {\n",
       "  /* unfitted */\n",
       "  background-color: var(--sklearn-color-unfitted-level-3);\n",
       "  color: var(--sklearn-color-background);\n",
       "  text-decoration: none;\n",
       "}\n",
       "\n",
       "div.sk-estimator.fitted:hover .sk-estimator-doc-link.fitted:hover,\n",
       ".sk-estimator-doc-link.fitted:hover,\n",
       "div.sk-label-container:hover .sk-estimator-doc-link.fitted:hover,\n",
       ".sk-estimator-doc-link.fitted:hover {\n",
       "  /* fitted */\n",
       "  background-color: var(--sklearn-color-fitted-level-3);\n",
       "  color: var(--sklearn-color-background);\n",
       "  text-decoration: none;\n",
       "}\n",
       "\n",
       "/* Span, style for the box shown on hovering the info icon */\n",
       ".sk-estimator-doc-link span {\n",
       "  display: none;\n",
       "  z-index: 9999;\n",
       "  position: relative;\n",
       "  font-weight: normal;\n",
       "  right: .2ex;\n",
       "  padding: .5ex;\n",
       "  margin: .5ex;\n",
       "  width: min-content;\n",
       "  min-width: 20ex;\n",
       "  max-width: 50ex;\n",
       "  color: var(--sklearn-color-text);\n",
       "  box-shadow: 2pt 2pt 4pt #999;\n",
       "  /* unfitted */\n",
       "  background: var(--sklearn-color-unfitted-level-0);\n",
       "  border: .5pt solid var(--sklearn-color-unfitted-level-3);\n",
       "}\n",
       "\n",
       ".sk-estimator-doc-link.fitted span {\n",
       "  /* fitted */\n",
       "  background: var(--sklearn-color-fitted-level-0);\n",
       "  border: var(--sklearn-color-fitted-level-3);\n",
       "}\n",
       "\n",
       ".sk-estimator-doc-link:hover span {\n",
       "  display: block;\n",
       "}\n",
       "\n",
       "/* \"?\"-specific style due to the `<a>` HTML tag */\n",
       "\n",
       "#sk-container-id-1 a.estimator_doc_link {\n",
       "  float: right;\n",
       "  font-size: 1rem;\n",
       "  line-height: 1em;\n",
       "  font-family: monospace;\n",
       "  background-color: var(--sklearn-color-background);\n",
       "  border-radius: 1rem;\n",
       "  height: 1rem;\n",
       "  width: 1rem;\n",
       "  text-decoration: none;\n",
       "  /* unfitted */\n",
       "  color: var(--sklearn-color-unfitted-level-1);\n",
       "  border: var(--sklearn-color-unfitted-level-1) 1pt solid;\n",
       "}\n",
       "\n",
       "#sk-container-id-1 a.estimator_doc_link.fitted {\n",
       "  /* fitted */\n",
       "  border: var(--sklearn-color-fitted-level-1) 1pt solid;\n",
       "  color: var(--sklearn-color-fitted-level-1);\n",
       "}\n",
       "\n",
       "/* On hover */\n",
       "#sk-container-id-1 a.estimator_doc_link:hover {\n",
       "  /* unfitted */\n",
       "  background-color: var(--sklearn-color-unfitted-level-3);\n",
       "  color: var(--sklearn-color-background);\n",
       "  text-decoration: none;\n",
       "}\n",
       "\n",
       "#sk-container-id-1 a.estimator_doc_link.fitted:hover {\n",
       "  /* fitted */\n",
       "  background-color: var(--sklearn-color-fitted-level-3);\n",
       "}\n",
       "</style><div id=\"sk-container-id-1\" class=\"sk-top-container\"><div class=\"sk-text-repr-fallback\"><pre>GridSearchCV(cv=5,\n",
       "             estimator=Pipeline(steps=[(&#x27;preprocessor&#x27;,\n",
       "                                        Pipeline(steps=[(&#x27;datetime&#x27;,\n",
       "                                                         DateTimeTransformer(columns=[&#x27;EDate&#x27;,\n",
       "                                                                                      &#x27;FollowUp_Date&#x27;,\n",
       "                                                                                      &#x27;Next_FollowUp1&#x27;])),\n",
       "                                                        (&#x27;imputer&#x27;,\n",
       "                                                         SimpleImputer(strategy=&#x27;most_frequent&#x27;)),\n",
       "                                                        (&#x27;encoder&#x27;,\n",
       "                                                         OneHotEncoder(handle_unknown=&#x27;ignore&#x27;))])),\n",
       "                                       (&#x27;classifier&#x27;,\n",
       "                                        RandomForestClassifier())]),\n",
       "             n_jobs=-1,\n",
       "             param_grid=[{&#x27;classifier&#x27;: [Logi...\n",
       "                         {&#x27;classifier&#x27;: [RandomForestClassifier()],\n",
       "                          &#x27;classifier__max_depth&#x27;: [None, 10, 20],\n",
       "                          &#x27;classifier__min_samples_split&#x27;: [2, 5, 10],\n",
       "                          &#x27;classifier__n_estimators&#x27;: [50, 100, 200]},\n",
       "                         {&#x27;classifier&#x27;: [GradientBoostingClassifier()],\n",
       "                          &#x27;classifier__learning_rate&#x27;: [0.01, 0.1, 0.2],\n",
       "                          &#x27;classifier__max_depth&#x27;: [3, 5, 7],\n",
       "                          &#x27;classifier__n_estimators&#x27;: [50, 100, 200]}],\n",
       "             scoring=make_scorer(roc_auc_score, response_method=&#x27;predict_proba&#x27;))</pre><b>In a Jupyter environment, please rerun this cell to show the HTML representation or trust the notebook. <br />On GitHub, the HTML representation is unable to render, please try loading this page with nbviewer.org.</b></div><div class=\"sk-container\" hidden><div class=\"sk-item sk-dashed-wrapped\"><div class=\"sk-label-container\"><div class=\"sk-label fitted sk-toggleable\"><input class=\"sk-toggleable__control sk-hidden--visually\" id=\"sk-estimator-id-1\" type=\"checkbox\" ><label for=\"sk-estimator-id-1\" class=\"sk-toggleable__label fitted sk-toggleable__label-arrow fitted\">&nbsp;&nbsp;GridSearchCV<a class=\"sk-estimator-doc-link fitted\" rel=\"noreferrer\" target=\"_blank\" href=\"https://scikit-learn.org/1.5/modules/generated/sklearn.model_selection.GridSearchCV.html\">?<span>Documentation for GridSearchCV</span></a><span class=\"sk-estimator-doc-link fitted\">i<span>Fitted</span></span></label><div class=\"sk-toggleable__content fitted\"><pre>GridSearchCV(cv=5,\n",
       "             estimator=Pipeline(steps=[(&#x27;preprocessor&#x27;,\n",
       "                                        Pipeline(steps=[(&#x27;datetime&#x27;,\n",
       "                                                         DateTimeTransformer(columns=[&#x27;EDate&#x27;,\n",
       "                                                                                      &#x27;FollowUp_Date&#x27;,\n",
       "                                                                                      &#x27;Next_FollowUp1&#x27;])),\n",
       "                                                        (&#x27;imputer&#x27;,\n",
       "                                                         SimpleImputer(strategy=&#x27;most_frequent&#x27;)),\n",
       "                                                        (&#x27;encoder&#x27;,\n",
       "                                                         OneHotEncoder(handle_unknown=&#x27;ignore&#x27;))])),\n",
       "                                       (&#x27;classifier&#x27;,\n",
       "                                        RandomForestClassifier())]),\n",
       "             n_jobs=-1,\n",
       "             param_grid=[{&#x27;classifier&#x27;: [Logi...\n",
       "                         {&#x27;classifier&#x27;: [RandomForestClassifier()],\n",
       "                          &#x27;classifier__max_depth&#x27;: [None, 10, 20],\n",
       "                          &#x27;classifier__min_samples_split&#x27;: [2, 5, 10],\n",
       "                          &#x27;classifier__n_estimators&#x27;: [50, 100, 200]},\n",
       "                         {&#x27;classifier&#x27;: [GradientBoostingClassifier()],\n",
       "                          &#x27;classifier__learning_rate&#x27;: [0.01, 0.1, 0.2],\n",
       "                          &#x27;classifier__max_depth&#x27;: [3, 5, 7],\n",
       "                          &#x27;classifier__n_estimators&#x27;: [50, 100, 200]}],\n",
       "             scoring=make_scorer(roc_auc_score, response_method=&#x27;predict_proba&#x27;))</pre></div> </div></div><div class=\"sk-parallel\"><div class=\"sk-parallel-item\"><div class=\"sk-item\"><div class=\"sk-label-container\"><div class=\"sk-label fitted sk-toggleable\"><input class=\"sk-toggleable__control sk-hidden--visually\" id=\"sk-estimator-id-2\" type=\"checkbox\" ><label for=\"sk-estimator-id-2\" class=\"sk-toggleable__label fitted sk-toggleable__label-arrow fitted\">best_estimator_: Pipeline</label><div class=\"sk-toggleable__content fitted\"><pre>Pipeline(steps=[(&#x27;preprocessor&#x27;,\n",
       "                 Pipeline(steps=[(&#x27;datetime&#x27;,\n",
       "                                  DateTimeTransformer(columns=[&#x27;EDate&#x27;,\n",
       "                                                               &#x27;FollowUp_Date&#x27;,\n",
       "                                                               &#x27;Next_FollowUp1&#x27;])),\n",
       "                                 (&#x27;imputer&#x27;,\n",
       "                                  SimpleImputer(strategy=&#x27;most_frequent&#x27;)),\n",
       "                                 (&#x27;encoder&#x27;,\n",
       "                                  OneHotEncoder(handle_unknown=&#x27;ignore&#x27;))])),\n",
       "                (&#x27;classifier&#x27;, LogisticRegression(C=1, max_iter=1000))])</pre></div> </div></div><div class=\"sk-serial\"><div class=\"sk-item\"><div class=\"sk-serial\"><div class=\"sk-item\"><div class=\"sk-label-container\"><div class=\"sk-label fitted sk-toggleable\"><input class=\"sk-toggleable__control sk-hidden--visually\" id=\"sk-estimator-id-3\" type=\"checkbox\" ><label for=\"sk-estimator-id-3\" class=\"sk-toggleable__label fitted sk-toggleable__label-arrow fitted\">&nbsp;preprocessor: Pipeline<a class=\"sk-estimator-doc-link fitted\" rel=\"noreferrer\" target=\"_blank\" href=\"https://scikit-learn.org/1.5/modules/generated/sklearn.pipeline.Pipeline.html\">?<span>Documentation for preprocessor: Pipeline</span></a></label><div class=\"sk-toggleable__content fitted\"><pre>Pipeline(steps=[(&#x27;datetime&#x27;,\n",
       "                 DateTimeTransformer(columns=[&#x27;EDate&#x27;, &#x27;FollowUp_Date&#x27;,\n",
       "                                              &#x27;Next_FollowUp1&#x27;])),\n",
       "                (&#x27;imputer&#x27;, SimpleImputer(strategy=&#x27;most_frequent&#x27;)),\n",
       "                (&#x27;encoder&#x27;, OneHotEncoder(handle_unknown=&#x27;ignore&#x27;))])</pre></div> </div></div><div class=\"sk-serial\"><div class=\"sk-item\"><div class=\"sk-estimator fitted sk-toggleable\"><input class=\"sk-toggleable__control sk-hidden--visually\" id=\"sk-estimator-id-4\" type=\"checkbox\" ><label for=\"sk-estimator-id-4\" class=\"sk-toggleable__label fitted sk-toggleable__label-arrow fitted\">DateTimeTransformer</label><div class=\"sk-toggleable__content fitted\"><pre>DateTimeTransformer(columns=[&#x27;EDate&#x27;, &#x27;FollowUp_Date&#x27;, &#x27;Next_FollowUp1&#x27;])</pre></div> </div></div><div class=\"sk-item\"><div class=\"sk-estimator fitted sk-toggleable\"><input class=\"sk-toggleable__control sk-hidden--visually\" id=\"sk-estimator-id-5\" type=\"checkbox\" ><label for=\"sk-estimator-id-5\" class=\"sk-toggleable__label fitted sk-toggleable__label-arrow fitted\">&nbsp;SimpleImputer<a class=\"sk-estimator-doc-link fitted\" rel=\"noreferrer\" target=\"_blank\" href=\"https://scikit-learn.org/1.5/modules/generated/sklearn.impute.SimpleImputer.html\">?<span>Documentation for SimpleImputer</span></a></label><div class=\"sk-toggleable__content fitted\"><pre>SimpleImputer(strategy=&#x27;most_frequent&#x27;)</pre></div> </div></div><div class=\"sk-item\"><div class=\"sk-estimator fitted sk-toggleable\"><input class=\"sk-toggleable__control sk-hidden--visually\" id=\"sk-estimator-id-6\" type=\"checkbox\" ><label for=\"sk-estimator-id-6\" class=\"sk-toggleable__label fitted sk-toggleable__label-arrow fitted\">&nbsp;OneHotEncoder<a class=\"sk-estimator-doc-link fitted\" rel=\"noreferrer\" target=\"_blank\" href=\"https://scikit-learn.org/1.5/modules/generated/sklearn.preprocessing.OneHotEncoder.html\">?<span>Documentation for OneHotEncoder</span></a></label><div class=\"sk-toggleable__content fitted\"><pre>OneHotEncoder(handle_unknown=&#x27;ignore&#x27;)</pre></div> </div></div></div></div><div class=\"sk-item\"><div class=\"sk-estimator fitted sk-toggleable\"><input class=\"sk-toggleable__control sk-hidden--visually\" id=\"sk-estimator-id-7\" type=\"checkbox\" ><label for=\"sk-estimator-id-7\" class=\"sk-toggleable__label fitted sk-toggleable__label-arrow fitted\">&nbsp;LogisticRegression<a class=\"sk-estimator-doc-link fitted\" rel=\"noreferrer\" target=\"_blank\" href=\"https://scikit-learn.org/1.5/modules/generated/sklearn.linear_model.LogisticRegression.html\">?<span>Documentation for LogisticRegression</span></a></label><div class=\"sk-toggleable__content fitted\"><pre>LogisticRegression(C=1, max_iter=1000)</pre></div> </div></div></div></div></div></div></div></div></div></div></div>"
      ],
      "text/plain": [
       "GridSearchCV(cv=5,\n",
       "             estimator=Pipeline(steps=[('preprocessor',\n",
       "                                        Pipeline(steps=[('datetime',\n",
       "                                                         DateTimeTransformer(columns=['EDate',\n",
       "                                                                                      'FollowUp_Date',\n",
       "                                                                                      'Next_FollowUp1'])),\n",
       "                                                        ('imputer',\n",
       "                                                         SimpleImputer(strategy='most_frequent')),\n",
       "                                                        ('encoder',\n",
       "                                                         OneHotEncoder(handle_unknown='ignore'))])),\n",
       "                                       ('classifier',\n",
       "                                        RandomForestClassifier())]),\n",
       "             n_jobs=-1,\n",
       "             param_grid=[{'classifier': [Logi...\n",
       "                         {'classifier': [RandomForestClassifier()],\n",
       "                          'classifier__max_depth': [None, 10, 20],\n",
       "                          'classifier__min_samples_split': [2, 5, 10],\n",
       "                          'classifier__n_estimators': [50, 100, 200]},\n",
       "                         {'classifier': [GradientBoostingClassifier()],\n",
       "                          'classifier__learning_rate': [0.01, 0.1, 0.2],\n",
       "                          'classifier__max_depth': [3, 5, 7],\n",
       "                          'classifier__n_estimators': [50, 100, 200]}],\n",
       "             scoring=make_scorer(roc_auc_score, response_method='predict_proba'))"
      ]
     },
     "execution_count": 72,
     "metadata": {},
     "output_type": "execute_result"
    }
   ],
   "source": [
    "# Perform grid search\n",
    "grid_search = GridSearchCV(model_pipeline, param_grid, cv=5, scoring=roc_auc_scorer, n_jobs=-1)\n",
    "grid_search.fit(X_train, y_train)\n"
   ]
  },
  {
   "cell_type": "code",
   "execution_count": 73,
   "metadata": {},
   "outputs": [],
   "source": [
    "# Best model\n",
    "best_model = grid_search.best_estimator_\n"
   ]
  },
  {
   "cell_type": "code",
   "execution_count": 74,
   "metadata": {},
   "outputs": [],
   "source": [
    "# Predict probabilities\n",
    "y_val_pred_proba = best_model.predict_proba(X_val)[:, 1]\n",
    "y_test_pred_proba = best_model.predict_proba(X_test)[:, 1]\n"
   ]
  },
  {
   "cell_type": "code",
   "execution_count": 75,
   "metadata": {},
   "outputs": [
    {
     "name": "stdout",
     "output_type": "stream",
     "text": [
      "Validation ROC AUC: 0.9908\n",
      "Test ROC AUC: 0.9934\n"
     ]
    }
   ],
   "source": [
    "# Evaluate the model\n",
    "roc_auc_val = roc_auc_score(y_val, y_val_pred_proba)\n",
    "roc_auc_test = roc_auc_score(y_test, y_test_pred_proba)\n",
    "print(f'Validation ROC AUC: {roc_auc_val:.4f}')\n",
    "print(f'Test ROC AUC: {roc_auc_test:.4f}')\n"
   ]
  },
  {
   "cell_type": "code",
   "execution_count": 76,
   "metadata": {},
   "outputs": [
    {
     "name": "stdout",
     "output_type": "stream",
     "text": [
      "              precision    recall  f1-score   support\n",
      "\n",
      "           0       1.00      1.00      1.00      2585\n",
      "           1       1.00      0.91      0.95        78\n",
      "\n",
      "    accuracy                           1.00      2663\n",
      "   macro avg       1.00      0.96      0.98      2663\n",
      "weighted avg       1.00      1.00      1.00      2663\n",
      "\n",
      "[[2585    0]\n",
      " [   7   71]]\n"
     ]
    }
   ],
   "source": [
    "# Classification report and confusion matrix\n",
    "y_test_pred = best_model.predict(X_test)\n",
    "print(classification_report(y_test, y_test_pred))\n",
    "print(confusion_matrix(y_test, y_test_pred))\n"
   ]
  },
  {
   "cell_type": "code",
   "execution_count": 77,
   "metadata": {},
   "outputs": [
    {
     "data": {
      "image/png": "[encoded data removed]",
      "text/plain": [
       "<Figure size 640x480 with 1 Axes>"
      ]
     },
     "metadata": {},
     "output_type": "display_data"
    }
   ],
   "source": [
    "# ROC curve\n",
    "fpr, tpr, _ = roc_curve(y_test, y_test_pred_proba)\n",
    "roc_auc = auc(fpr, tpr)\n",
    "plt.figure()\n",
    "plt.plot(fpr, tpr, color='darkorange', lw=2, label=f'ROC curve (area = {roc_auc:.2f})')\n",
    "plt.plot([0, 1], [0, 1], color='navy', lw=2, linestyle='--')\n",
    "plt.xlim([0.0, 1.0])\n",
    "plt.ylim([0.0, 1.05])\n",
    "plt.xlabel('False Positive Rate')\n",
    "plt.ylabel('True Positive Rate')\n",
    "plt.title('Receiver Operating Characteristic')\n",
    "plt.legend(loc=\"lower right\")\n",
    "plt.show()\n"
   ]
  },
  {
   "cell_type": "code",
   "execution_count": 78,
   "metadata": {},
   "outputs": [
    {
     "data": {
      "text/plain": [
       "['booking_model.pkl']"
      ]
     },
     "execution_count": 78,
     "metadata": {},
     "output_type": "execute_result"
    }
   ],
   "source": [
    "import joblib\n",
    "joblib.dump(best_model, 'booking_model.pkl')\n"
   ]
  },
  {
   "cell_type": "code",
   "execution_count": 79,
   "metadata": {},
   "outputs": [],
   "source": [
    "def evaluate_model(model, X_train, y_train, X_val, y_val, X_test, y_test):\n",
    "    results = {}\n",
    "    for X, y, dataset in [(X_train, y_train, 'Train'), (X_val, y_val, 'Validation'), (X_test, y_test, 'Test')]:\n",
    "        y_pred = model.predict(X)\n",
    "        y_pred_proba = model.predict_proba(X)[:, 1]\n",
    "        fpr, tpr, _ = roc_curve(y, y_pred_proba)\n",
    "        roc_auc = auc(fpr, tpr)\n",
    "        \n",
    "        results[dataset] = {\n",
    "            'roc_auc': roc_auc,\n",
    "            'confusion_matrix': confusion_matrix(y, y_pred),\n",
    "            'classification_report': classification_report(y, y_pred, output_dict=True),\n",
    "            'fpr': fpr,\n",
    "            'tpr': tpr\n",
    "        }\n",
    "    return results"
   ]
  },
  {
   "cell_type": "code",
   "execution_count": 80,
   "metadata": {},
   "outputs": [],
   "source": [
    "def plot_roc_curve(results, model_name):\n",
    "    plt.figure(figsize=(10, 6))\n",
    "    for dataset, result in results.items():\n",
    "        plt.plot(result['fpr'], result['tpr'], label=f'{dataset} (AUC = {result[\"roc_auc\"]:.2f})')\n",
    "    plt.plot([0, 1], [0, 1], 'k--')\n",
    "    plt.xlim([0.0, 1.0])\n",
    "    plt.ylim([0.0, 1.05])\n",
    "    plt.xlabel('False Positive Rate')\n",
    "    plt.ylabel('True Positive Rate')\n",
    "    plt.title(f'ROC Curve for {model_name}')\n",
    "    plt.legend(loc=\"lower right\")\n",
    "    plt.show()\n"
   ]
  },
  {
   "cell_type": "code",
   "execution_count": 81,
   "metadata": {},
   "outputs": [],
   "source": [
    "results = evaluate_model(best_model, X_train, y_train, X_val, y_val, X_test, y_test)\n"
   ]
  },
  {
   "cell_type": "code",
   "execution_count": 82,
   "metadata": {},
   "outputs": [
    {
     "data": {
      "image/png": "[encoded data removed]",
      "text/plain": [
       "<Figure size 1000x600 with 1 Axes>"
      ]
     },
     "metadata": {},
     "output_type": "display_data"
    }
   ],
   "source": [
    "plot_roc_curve(results, type(best_model.named_steps['classifier']).__name__)\n"
   ]
  },
  {
   "cell_type": "code",
   "execution_count": 83,
   "metadata": {},
   "outputs": [
    {
     "name": "stdout",
     "output_type": "stream",
     "text": [
      "Train Set Confusion Matrix:\n",
      "[[20648    24]\n",
      " [   42   576]]\n",
      "Train Set Classification Report:\n",
      "{'0': {'precision': 0.9979700338327695, 'recall': 0.9988390092879257, 'f1-score': 0.9984043324790871, 'support': 20672.0}, '1': {'precision': 0.96, 'recall': 0.9320388349514563, 'f1-score': 0.9458128078817734, 'support': 618.0}, 'accuracy': 0.9968999530295913, 'macro avg': {'precision': 0.9789850169163847, 'recall': 0.9654389221196911, 'f1-score': 0.9721085701804302, 'support': 21290.0}, 'weighted avg': {'precision': 0.996867850605496, 'recall': 0.9968999530295913, 'f1-score': 0.996877720820978, 'support': 21290.0}}\n",
      "Validation Set Confusion Matrix:\n",
      "[[2579    5]\n",
      " [   6   71]]\n",
      "Validation Set Classification Report:\n",
      "{'0': {'precision': 0.997678916827853, 'recall': 0.9980650154798761, 'f1-score': 0.9978719288063456, 'support': 2584.0}, '1': {'precision': 0.9342105263157895, 'recall': 0.922077922077922, 'f1-score': 0.9281045751633987, 'support': 77.0}, 'accuracy': 0.9958662157083803, 'macro avg': {'precision': 0.9659447215718213, 'recall': 0.9600714687788992, 'f1-score': 0.9629882519848721, 'support': 2661.0}, 'weighted avg': {'precision': 0.995842364377861, 'recall': 0.9958662157083803, 'f1-score': 0.9958531064724458, 'support': 2661.0}}\n",
      "Test Set Confusion Matrix:\n",
      "[[2585    0]\n",
      " [   7   71]]\n",
      "Test Set Classification Report:\n",
      "{'0': {'precision': 0.9972993827160493, 'recall': 1.0, 'f1-score': 0.9986478655592042, 'support': 2585.0}, '1': {'precision': 1.0, 'recall': 0.9102564102564102, 'f1-score': 0.9530201342281879, 'support': 78.0}, 'accuracy': 0.997371385655276, 'macro avg': {'precision': 0.9986496913580247, 'recall': 0.9551282051282051, 'f1-score': 0.975833999893696, 'support': 2663.0}, 'weighted avg': {'precision': 0.9973784845366082, 'recall': 0.997371385655276, 'f1-score': 0.9973114168007291, 'support': 2663.0}}\n"
     ]
    }
   ],
   "source": [
    "# confusion matrix and classification report\n",
    "for dataset, result in results.items():\n",
    "    print(f\"{dataset} Set Confusion Matrix:\\n{result['confusion_matrix']}\")\n",
    "    print(f\"{dataset} Set Classification Report:\\n{result['classification_report']}\")\n",
    "    "
   ]
  },
  {
   "cell_type": "code",
   "execution_count": 84,
   "metadata": {},
   "outputs": [
    {
     "data": {
      "text/plain": [
       "['model_with_transformer.pkl']"
      ]
     },
     "execution_count": 84,
     "metadata": {},
     "output_type": "execute_result"
    }
   ],
   "source": [
    "# Save model\n",
    "joblib.dump({\n",
    "    'model': best_model,\n",
    "    'datetime_transformer': DateTimeTransformer(datetime_columns)\n",
    "}, 'model_with_transformer.pkl')\n"
   ]
  },
  {
   "cell_type": "code",
   "execution_count": null,
   "metadata": {},
   "outputs": [],
   "source": []
  },
  {
   "cell_type": "code",
   "execution_count": 15,
   "metadata": {},
   "outputs": [
    {
     "name": "stdout",
     "output_type": "stream",
     "text": [
      "[0.27411507]\n"
     ]
    },
    {
     "name": "stderr",
     "output_type": "stream",
     "text": [
      "C:\\Users\\virtu\\AppData\\Local\\Temp\\ipykernel_23508\\228814344.py:7: UserWarning: Parsing dates in %d-%m-%Y  %H:%M:%S format when dayfirst=False (the default) was specified. Pass `dayfirst=True` or specify a format to silence this warning.\n",
      "  'EDate': [pd.to_datetime('18-07-2024  15:48:24')],\n",
      "C:\\Users\\virtu\\AppData\\Local\\Temp\\ipykernel_23508\\228814344.py:11: UserWarning: Parsing dates in %d-%m-%Y  %H:%M:%S format when dayfirst=False (the default) was specified. Pass `dayfirst=True` or specify a format to silence this warning.\n",
      "  'FollowUp_Date': [pd.to_datetime('18-07-2024  15:50:18')],\n",
      "C:\\Users\\virtu\\AppData\\Local\\Temp\\ipykernel_23508\\228814344.py:13: UserWarning: Parsing dates in %d-%m-%Y  %H:%M:%S format when dayfirst=False (the default) was specified. Pass `dayfirst=True` or specify a format to silence this warning.\n",
      "  'Next_FollowUp1': [pd.to_datetime('19-07-2024  20:50:18')],\n"
     ]
    }
   ],
   "source": [
    "import joblib\n",
    "\n",
    "model_pipeline = joblib.load('booking_model.pkl')\n",
    "\n",
    "# input data\n",
    "input_data = pd.DataFrame({\n",
    "    'EDate': [pd.to_datetime('18-07-2024  15:48:24')],\n",
    "    'Project': ['Sage Golden Spring'],\n",
    "    'Remark1' : 'lead given by existing customer. .visit done. interested in D block',\n",
    "    'HandledByEmployee' : 'Ritu Mehta',\n",
    "    'FollowUp_Date': [pd.to_datetime('18-07-2024  15:50:18')],\n",
    "    'FollowUp_Mode': ['Telephonic'],\n",
    "    'Next_FollowUp1': [pd.to_datetime('19-07-2024  20:50:18')],       \n",
    "    'CustomerGrade': ['Hot'],\n",
    "    'Marital_Status': ['Married'],\n",
    "    'Occupation': ['Unknown'],\n",
    "    'Location': ['Ayodhya Bypass'],\n",
    "    'Budget': [1250000.0],\n",
    "    'Source': ['Reference'],\n",
    "    'EnquiryStage': ['Open'],\n",
    "    \n",
    "    # 'EDate': [pd.to_datetime('19-07-2024 13:03')],\n",
    "    # 'Project': ['Unknown'],\n",
    "    # 'Remark1' : 'Enquiry Created Due to Direct Sale',\n",
    "    # 'HandledByEmployee' : 'Vaishali Suryawanshi',\n",
    "    # 'FollowUp_Date': [pd.to_datetime('19-07-2024  14:48:39')],\n",
    "    # 'FollowUp_Mode': ['Telephonic'],\n",
    "    # 'Next_FollowUp1': [pd.to_datetime('21-07-2024  14:48:39')],       \n",
    "    # 'CustomerGrade': ['Unknown'],\n",
    "    # 'Marital_Status': ['Married'],\n",
    "    # 'Occupation': ['Banker'],\n",
    "    # 'Location': ['Unknown'],\n",
    "    # 'Budget': [6750000.0],\n",
    "    # 'Source': ['Unknown'],\n",
    "    # 'EnquiryStage': ['Enquiry'],\n",
    "    \n",
    "    # 'EDate': [pd.to_datetime('2024-07-20 11:57:20')],\n",
    "    # 'Project': ['Sage Milestone'],\n",
    "    # 'Remark1' : 'discussion done and interested in duplex will visit soon',\n",
    "    # 'HandledByEmployee' : 'Neeraj Kamboj',\n",
    "    # 'FollowUp_Date': [pd.to_datetime('2024-07-20 12:24:33')],\n",
    "    # 'FollowUp_Mode': ['Telephonic'],\n",
    "    # 'Next_FollowUp1': [pd.to_datetime('2024-07-23 12:24:03')],       \n",
    "    # 'CustomerGrade': ['Proposal'],\n",
    "    # 'Marital_Status': ['Married'],00\n",
    "    # 'Occupation': ['Unknown'],\n",
    "    # 'Location': ['Hoshangabad Road'],\n",
    "    # 'Budget': [6750000.0],\n",
    "    # 'Source': ['Unknown'],\n",
    "    # 'EnquiryStage': ['Enquiry'],\n",
    "    \n",
    "\n",
    "    \n",
    "    \n",
    "    \n",
    "})\n",
    "\n",
    "# Apply the preprocessing and prediction\n",
    "preprocessed_data = model_pipeline.named_steps['preprocessor'].transform(input_data)\n",
    "probabilities = model_pipeline.named_steps['classifier'].predict_proba(preprocessed_data)[:, 1]\n",
    "\n",
    "print(probabilities)"
   ]
  },
  {
   "cell_type": "code",
   "execution_count": null,
   "metadata": {},
   "outputs": [],
   "source": []
  }
 ],
 "metadata": {
  "kernelspec": {
   "display_name": "Python 3 (ipykernel)",
   "language": "python",
   "name": "python3"
  },
  "language_info": {
   "codemirror_mode": {
    "name": "ipython",
    "version": 3
   },
   "file_extension": ".py",
   "mimetype": "text/x-python",
   "name": "python",
   "nbconvert_exporter": "python",
   "pygments_lexer": "ipython3",
   "version": "3.9.12"
  }
 },
 "nbformat": 4,
 "nbformat_minor": 2
}
