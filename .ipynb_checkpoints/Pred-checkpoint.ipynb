{
 "cells": [
  {
   "cell_type": "markdown",
   "metadata": {},
   "source": [
    "Customer Conversion Prediction Model"
   ]
  },
  {
   "cell_type": "code",
   "execution_count": 1,
   "metadata": {},
   "outputs": [],
   "source": [
    "import pandas as pd\n",
    "import numpy as np\n",
    "import matplotlib.pyplot as plt\n",
    "import seaborn as sns\n",
    "from datetime import timedelta\n",
    "import random\n",
    "from sklearn.model_selection import train_test_split\n",
    "from sklearn.preprocessing import LabelEncoder, OneHotEncoder\n",
    "from sklearn.pipeline import Pipeline\n",
    "from sklearn.compose import ColumnTransformer\n",
    "import category_encoders as ce\n",
    "from sklearn.preprocessing import StandardScaler\n",
    "import mlflow\n",
    "import mlflow.sklearn\n",
    "from sklearn.metrics import make_scorer\n"
   ]
  },
  {
   "cell_type": "code",
   "execution_count": 2,
   "metadata": {},
   "outputs": [],
   "source": [
    "from sklearn.linear_model import LogisticRegression\n",
    "from sklearn.ensemble import RandomForestClassifier, GradientBoostingClassifier\n",
    "from sklearn.model_selection import GridSearchCV\n",
    "from sklearn.metrics import roc_auc_score"
   ]
  },
  {
   "cell_type": "code",
   "execution_count": 2,
   "metadata": {},
   "outputs": [],
   "source": [
    "data = pd.read_excel('EnquiryAnalysis.xlsx')"
   ]
  },
  {
   "cell_type": "code",
   "execution_count": 3,
   "metadata": {},
   "outputs": [],
   "source": [
    "data['EDate'] = pd.to_datetime(data['EDate'], format='%d %b %Y %H:%M:%S')\n",
    "df = data[data['EDate'].dt.year == 2024]\n"
   ]
  },
  {
   "cell_type": "code",
   "execution_count": 5,
   "metadata": {},
   "outputs": [
    {
     "data": {
      "text/html": [
       "<div>\n",
       "<style scoped>\n",
       "    .dataframe tbody tr th:only-of-type {\n",
       "        vertical-align: middle;\n",
       "    }\n",
       "\n",
       "    .dataframe tbody tr th {\n",
       "        vertical-align: top;\n",
       "    }\n",
       "\n",
       "    .dataframe thead th {\n",
       "        text-align: right;\n",
       "    }\n",
       "</style>\n",
       "<table border=\"1\" class=\"dataframe\">\n",
       "  <thead>\n",
       "    <tr style=\"text-align: right;\">\n",
       "      <th></th>\n",
       "      <th>ROW_NUM</th>\n",
       "      <th>Column1</th>\n",
       "      <th>Enquiry_id</th>\n",
       "      <th>Enquiry_SrNo</th>\n",
       "      <th>EDate</th>\n",
       "      <th>Name</th>\n",
       "      <th>Project</th>\n",
       "      <th>Unit</th>\n",
       "      <th>Mobile</th>\n",
       "      <th>Phone_Office</th>\n",
       "      <th>...</th>\n",
       "      <th>SalesPoints</th>\n",
       "      <th>CustomerType</th>\n",
       "      <th>EnquiryStage</th>\n",
       "      <th>Enquiry_Status</th>\n",
       "      <th>Enquiry Conclusion Date</th>\n",
       "      <th>StageChangeDate</th>\n",
       "      <th>Last_Approach_Date</th>\n",
       "      <th>Filtered_Date</th>\n",
       "      <th>Booking_Info</th>\n",
       "      <th>Account_ID</th>\n",
       "    </tr>\n",
       "  </thead>\n",
       "  <tbody>\n",
       "    <tr>\n",
       "      <th>0</th>\n",
       "      <td>1</td>\n",
       "      <td>1</td>\n",
       "      <td>37293</td>\n",
       "      <td>37191</td>\n",
       "      <td>2024-07-20 12:17:42</td>\n",
       "      <td>MR JAY SMS</td>\n",
       "      <td>Sage Milestone</td>\n",
       "      <td>NaN</td>\n",
       "      <td>9179830111</td>\n",
       "      <td>NaN</td>\n",
       "      <td>...</td>\n",
       "      <td>NaN</td>\n",
       "      <td>NaN</td>\n",
       "      <td>Lead Confirmation</td>\n",
       "      <td>Open</td>\n",
       "      <td>NaN</td>\n",
       "      <td>20 Jul 2024 00:00:00</td>\n",
       "      <td>NaN</td>\n",
       "      <td>20-Jul-2024</td>\n",
       "      <td>NaN</td>\n",
       "      <td>33712</td>\n",
       "    </tr>\n",
       "    <tr>\n",
       "      <th>1</th>\n",
       "      <td>2</td>\n",
       "      <td>1</td>\n",
       "      <td>37292</td>\n",
       "      <td>37190</td>\n",
       "      <td>2024-07-20 11:57:20</td>\n",
       "      <td>Shiv Chousaria</td>\n",
       "      <td>Sage Milestone</td>\n",
       "      <td>NaN</td>\n",
       "      <td>9713071645</td>\n",
       "      <td>NaN</td>\n",
       "      <td>...</td>\n",
       "      <td>NaN</td>\n",
       "      <td>NaN</td>\n",
       "      <td>Enquiry</td>\n",
       "      <td>Open</td>\n",
       "      <td>NaN</td>\n",
       "      <td>20 Jul 2024 00:00:00</td>\n",
       "      <td>NaN</td>\n",
       "      <td>20-Jul-2024</td>\n",
       "      <td>NaN</td>\n",
       "      <td>33710</td>\n",
       "    </tr>\n",
       "    <tr>\n",
       "      <th>2</th>\n",
       "      <td>3</td>\n",
       "      <td>1</td>\n",
       "      <td>37291</td>\n",
       "      <td>37189</td>\n",
       "      <td>2024-07-20 12:02:41</td>\n",
       "      <td>gokul maheshwari</td>\n",
       "      <td>Sage Bungalows</td>\n",
       "      <td>NaN</td>\n",
       "      <td>9983751000</td>\n",
       "      <td>NaN</td>\n",
       "      <td>...</td>\n",
       "      <td>NaN</td>\n",
       "      <td>NaN</td>\n",
       "      <td>Site Visit - Proposed</td>\n",
       "      <td>Open</td>\n",
       "      <td>NaN</td>\n",
       "      <td>20 Jul 2024 00:00:00</td>\n",
       "      <td>NaN</td>\n",
       "      <td>20-Jul-2024</td>\n",
       "      <td>NaN</td>\n",
       "      <td>33711</td>\n",
       "    </tr>\n",
       "    <tr>\n",
       "      <th>3</th>\n",
       "      <td>4</td>\n",
       "      <td>1</td>\n",
       "      <td>37290</td>\n",
       "      <td>37188</td>\n",
       "      <td>2024-07-20 11:53:38</td>\n",
       "      <td>Prabhakar Gupta</td>\n",
       "      <td>Sage Milestone</td>\n",
       "      <td>NaN</td>\n",
       "      <td>6261359443</td>\n",
       "      <td>NaN</td>\n",
       "      <td>...</td>\n",
       "      <td>NaN</td>\n",
       "      <td>NaN</td>\n",
       "      <td>Enquiry</td>\n",
       "      <td>Open</td>\n",
       "      <td>NaN</td>\n",
       "      <td>20 Jul 2024 00:00:00</td>\n",
       "      <td>NaN</td>\n",
       "      <td>20-Jul-2024</td>\n",
       "      <td>NaN</td>\n",
       "      <td>33709</td>\n",
       "    </tr>\n",
       "    <tr>\n",
       "      <th>4</th>\n",
       "      <td>5</td>\n",
       "      <td>1</td>\n",
       "      <td>37289</td>\n",
       "      <td>37187</td>\n",
       "      <td>2024-07-20 11:51:34</td>\n",
       "      <td>Rohit</td>\n",
       "      <td>Sage Nirvana Phase I</td>\n",
       "      <td>NaN</td>\n",
       "      <td>7869876667</td>\n",
       "      <td>NaN</td>\n",
       "      <td>...</td>\n",
       "      <td>NaN</td>\n",
       "      <td>NaN</td>\n",
       "      <td>Enquiry</td>\n",
       "      <td>Open</td>\n",
       "      <td>NaN</td>\n",
       "      <td>20 Jul 2024 11:51:34</td>\n",
       "      <td>20 Jul 2024 11:51:35</td>\n",
       "      <td>20-Jul-2024</td>\n",
       "      <td>NaN</td>\n",
       "      <td>33708</td>\n",
       "    </tr>\n",
       "  </tbody>\n",
       "</table>\n",
       "<p>5 rows × 90 columns</p>\n",
       "</div>"
      ],
      "text/plain": [
       "   ROW_NUM  Column1  Enquiry_id  Enquiry_SrNo               EDate  \\\n",
       "0        1        1       37293         37191 2024-07-20 12:17:42   \n",
       "1        2        1       37292         37190 2024-07-20 11:57:20   \n",
       "2        3        1       37291         37189 2024-07-20 12:02:41   \n",
       "3        4        1       37290         37188 2024-07-20 11:53:38   \n",
       "4        5        1       37289         37187 2024-07-20 11:51:34   \n",
       "\n",
       "               Name               Project Unit      Mobile  Phone_Office  ...  \\\n",
       "0        MR JAY SMS        Sage Milestone  NaN  9179830111           NaN  ...   \n",
       "1    Shiv Chousaria        Sage Milestone  NaN  9713071645           NaN  ...   \n",
       "2  gokul maheshwari        Sage Bungalows  NaN  9983751000           NaN  ...   \n",
       "3   Prabhakar Gupta        Sage Milestone  NaN  6261359443           NaN  ...   \n",
       "4             Rohit  Sage Nirvana Phase I  NaN  7869876667           NaN  ...   \n",
       "\n",
       "  SalesPoints  CustomerType           EnquiryStage Enquiry_Status  \\\n",
       "0         NaN           NaN      Lead Confirmation           Open   \n",
       "1         NaN           NaN                Enquiry           Open   \n",
       "2         NaN           NaN  Site Visit - Proposed           Open   \n",
       "3         NaN           NaN                Enquiry           Open   \n",
       "4         NaN           NaN                Enquiry           Open   \n",
       "\n",
       "  Enquiry Conclusion Date       StageChangeDate    Last_Approach_Date  \\\n",
       "0                     NaN  20 Jul 2024 00:00:00                   NaN   \n",
       "1                     NaN  20 Jul 2024 00:00:00                   NaN   \n",
       "2                     NaN  20 Jul 2024 00:00:00                   NaN   \n",
       "3                     NaN  20 Jul 2024 00:00:00                   NaN   \n",
       "4                     NaN  20 Jul 2024 11:51:34  20 Jul 2024 11:51:35   \n",
       "\n",
       "  Filtered_Date Booking_Info Account_ID  \n",
       "0   20-Jul-2024          NaN      33712  \n",
       "1   20-Jul-2024          NaN      33710  \n",
       "2   20-Jul-2024          NaN      33711  \n",
       "3   20-Jul-2024          NaN      33709  \n",
       "4   20-Jul-2024          NaN      33708  \n",
       "\n",
       "[5 rows x 90 columns]"
      ]
     },
     "execution_count": 5,
     "metadata": {},
     "output_type": "execute_result"
    }
   ],
   "source": [
    "df.head()"
   ]
  },
  {
   "cell_type": "code",
   "execution_count": 6,
   "metadata": {},
   "outputs": [
    {
     "data": {
      "text/plain": [
       "Index(['ROW_NUM', 'Column1', 'Enquiry_id', 'Enquiry_SrNo', 'EDate', 'Name',\n",
       "       'Project', 'Unit', 'Mobile', 'Phone_Office', 'Email', 'Mobile2',\n",
       "       'Phone_Offi2', 'Email2', 'Remark', 'Result', 'Final_Remark', 'Remark1',\n",
       "       'Remark2', 'Remark3', 'HandledByEmployee', 'FollowUp_Date',\n",
       "       'Followup_Employee', 'Approach_Followup_Employee', 'FollowUp_Mode',\n",
       "       'Next_FollowUp1', 'Next_Followup_Employee', 'SourceEnquiry',\n",
       "       'CustomerGrade', 'Address', 'Address_Temp', 'Prospect_Location', 'City',\n",
       "       'Pin', 'NRI', 'Age', 'Phone_Resi', 'Phone_Resi2', 'Website',\n",
       "       'Community', 'Nation', 'Family_Members', 'Staying_Status',\n",
       "       'Marital_Status', 'Occupation', 'Income', 'Organization', 'Designation',\n",
       "       'Office_Address', 'Fax', 'Contact_Person', 'UNITTYPENM', 'Rooms',\n",
       "       'Toilets_Required', 'Area_Requirement', 'Parking', 'Location',\n",
       "       'Location2', 'Location3', 'Floor', 'Budget', 'SourceFunding',\n",
       "       'Loan_required', 'Loan_amount', 'Finance', 'Expected_Possation',\n",
       "       'Enquirytype', 'Broker_Name', 'Source', 'Campaign', 'Primary_Source',\n",
       "       'Secondary_Source', 'Source_Of_Information', 'FirstQuestion',\n",
       "       'Action_taken', 'Purchase_Before', 'Booked_upto', 'Projnm2', 'Unitno2',\n",
       "       'Bldg', 'SalesPoints', 'CustomerType', 'EnquiryStage', 'Enquiry_Status',\n",
       "       'Enquiry Conclusion Date', 'StageChangeDate', 'Last_Approach_Date',\n",
       "       'Filtered_Date', 'Booking_Info', 'Account_ID'],\n",
       "      dtype='object')"
      ]
     },
     "execution_count": 6,
     "metadata": {},
     "output_type": "execute_result"
    }
   ],
   "source": [
    "df.columns"
   ]
  },
  {
   "cell_type": "code",
   "execution_count": 7,
   "metadata": {},
   "outputs": [
    {
     "data": {
      "text/plain": [
       "ROW_NUM                   0\n",
       "Column1                   0\n",
       "Enquiry_id                0\n",
       "Enquiry_SrNo              0\n",
       "EDate                     0\n",
       "                      ...  \n",
       "StageChangeDate         751\n",
       "Last_Approach_Date    14659\n",
       "Filtered_Date             0\n",
       "Booking_Info          26614\n",
       "Account_ID                0\n",
       "Length: 90, dtype: int64"
      ]
     },
     "execution_count": 7,
     "metadata": {},
     "output_type": "execute_result"
    }
   ],
   "source": [
    "df.isnull().sum()\n"
   ]
  },
  {
   "cell_type": "code",
   "execution_count": 8,
   "metadata": {},
   "outputs": [],
   "source": [
    "df = df.drop(['ROW_NUM', 'Column1', 'Enquiry_SrNo',\n",
    "       'Unit', 'Mobile', 'Phone_Office', 'Email', 'Mobile2',\n",
    "       'Phone_Offi2', 'Email2',\n",
    "       'Remark2', 'Remark3',\n",
    "       'Address', 'Address_Temp', 'Prospect_Location', 'City',\n",
    "       'Pin', 'NRI', 'Age', 'Phone_Resi', 'Phone_Resi2', 'Website',\n",
    "       'Community', 'Nation', 'Family_Members', 'Staying_Status', 'Income', 'Organization', 'Designation',\n",
    "       'Office_Address', 'Fax', 'Contact_Person', 'Rooms',\n",
    "       'Toilets_Required', 'Area_Requirement', 'Parking',\n",
    "       'Location2', 'Location3', 'Floor', 'SourceFunding',\n",
    "       'Loan_required', 'Loan_amount', 'Finance', 'Expected_Possation',\n",
    "        'Broker_Name', 'FirstQuestion',\n",
    "       'Action_taken', 'Purchase_Before', 'Booked_upto', 'Projnm2', 'Unitno2',\n",
    "       'Bldg', 'SalesPoints','Account_ID'],axis=1)"
   ]
  },
  {
   "cell_type": "code",
   "execution_count": 9,
   "metadata": {},
   "outputs": [
    {
     "data": {
      "text/plain": [
       "Index(['Enquiry_id', 'EDate', 'Name', 'Project', 'Remark', 'Result',\n",
       "       'Final_Remark', 'Remark1', 'HandledByEmployee', 'FollowUp_Date',\n",
       "       'Followup_Employee', 'Approach_Followup_Employee', 'FollowUp_Mode',\n",
       "       'Next_FollowUp1', 'Next_Followup_Employee', 'SourceEnquiry',\n",
       "       'CustomerGrade', 'Marital_Status', 'Occupation', 'UNITTYPENM',\n",
       "       'Location', 'Budget', 'Enquirytype', 'Source', 'Campaign',\n",
       "       'Primary_Source', 'Secondary_Source', 'Source_Of_Information',\n",
       "       'CustomerType', 'EnquiryStage', 'Enquiry_Status',\n",
       "       'Enquiry Conclusion Date', 'StageChangeDate', 'Last_Approach_Date',\n",
       "       'Filtered_Date', 'Booking_Info'],\n",
       "      dtype='object')"
      ]
     },
     "execution_count": 9,
     "metadata": {},
     "output_type": "execute_result"
    }
   ],
   "source": [
    "df.columns"
   ]
  },
  {
   "cell_type": "code",
   "execution_count": 10,
   "metadata": {},
   "outputs": [],
   "source": [
    "# df.to_excel('data_2024.xlsx',index=None)\n",
    "# df_2023.to_excel('data_2023.xlsx')\n",
    "# df_2022.to_excel('data_2022.xlsx')\n"
   ]
  },
  {
   "cell_type": "code",
   "execution_count": 11,
   "metadata": {},
   "outputs": [],
   "source": [
    "df = df.drop('Booking_Info',axis=1)\n",
    "df = df.drop('SourceEnquiry',axis=1)\n",
    "df = df.drop('Name',axis=1)"
   ]
  },
  {
   "cell_type": "code",
   "execution_count": 12,
   "metadata": {},
   "outputs": [
    {
     "data": {
      "text/plain": [
       "Enquiry_id                        0\n",
       "EDate                             0\n",
       "Project                        6849\n",
       "Remark                        14346\n",
       "Result                        12324\n",
       "Final_Remark                  18583\n",
       "Remark1                        1305\n",
       "HandledByEmployee                 0\n",
       "FollowUp_Date                   751\n",
       "Followup_Employee               753\n",
       "Approach_Followup_Employee      754\n",
       "FollowUp_Mode                 17320\n",
       "Next_FollowUp1                  751\n",
       "Next_Followup_Employee          754\n",
       "CustomerGrade                  4981\n",
       "Marital_Status                    0\n",
       "Occupation                    26095\n",
       "UNITTYPENM                    21590\n",
       "Location                      22718\n",
       "Budget                        23747\n",
       "Enquirytype                    8149\n",
       "Source                        14931\n",
       "Campaign                      26156\n",
       "Primary_Source                14931\n",
       "Secondary_Source              14931\n",
       "Source_Of_Information         14931\n",
       "CustomerType                  25622\n",
       "EnquiryStage                    796\n",
       "Enquiry_Status                    0\n",
       "Enquiry Conclusion Date       11527\n",
       "StageChangeDate                 751\n",
       "Last_Approach_Date            14659\n",
       "Filtered_Date                     0\n",
       "dtype: int64"
      ]
     },
     "execution_count": 12,
     "metadata": {},
     "output_type": "execute_result"
    }
   ],
   "source": [
    "df.isnull().sum()"
   ]
  },
  {
   "cell_type": "code",
   "execution_count": 13,
   "metadata": {},
   "outputs": [
    {
     "data": {
      "text/html": [
       "<div>\n",
       "<style scoped>\n",
       "    .dataframe tbody tr th:only-of-type {\n",
       "        vertical-align: middle;\n",
       "    }\n",
       "\n",
       "    .dataframe tbody tr th {\n",
       "        vertical-align: top;\n",
       "    }\n",
       "\n",
       "    .dataframe thead th {\n",
       "        text-align: right;\n",
       "    }\n",
       "</style>\n",
       "<table border=\"1\" class=\"dataframe\">\n",
       "  <thead>\n",
       "    <tr style=\"text-align: right;\">\n",
       "      <th></th>\n",
       "      <th>Enquiry_id</th>\n",
       "      <th>EDate</th>\n",
       "      <th>Project</th>\n",
       "      <th>Remark</th>\n",
       "      <th>Result</th>\n",
       "      <th>Final_Remark</th>\n",
       "      <th>Remark1</th>\n",
       "      <th>HandledByEmployee</th>\n",
       "      <th>FollowUp_Date</th>\n",
       "      <th>Followup_Employee</th>\n",
       "      <th>...</th>\n",
       "      <th>Primary_Source</th>\n",
       "      <th>Secondary_Source</th>\n",
       "      <th>Source_Of_Information</th>\n",
       "      <th>CustomerType</th>\n",
       "      <th>EnquiryStage</th>\n",
       "      <th>Enquiry_Status</th>\n",
       "      <th>Enquiry Conclusion Date</th>\n",
       "      <th>StageChangeDate</th>\n",
       "      <th>Last_Approach_Date</th>\n",
       "      <th>Filtered_Date</th>\n",
       "    </tr>\n",
       "  </thead>\n",
       "  <tbody>\n",
       "    <tr>\n",
       "      <th>0</th>\n",
       "      <td>37293</td>\n",
       "      <td>2024-07-20 12:17:42</td>\n",
       "      <td>Sage Milestone</td>\n",
       "      <td>NaN</td>\n",
       "      <td>NaN</td>\n",
       "      <td>NaN</td>\n",
       "      <td>HE EFFFORT 30K EME 5L DOWNPAMNT...SMS SUGGUST ...</td>\n",
       "      <td>Faizal Ahmad</td>\n",
       "      <td>20 Jul 2024 12:18:44</td>\n",
       "      <td>Faizal Ahmad</td>\n",
       "      <td>...</td>\n",
       "      <td>NaN</td>\n",
       "      <td>NaN</td>\n",
       "      <td>NaN</td>\n",
       "      <td>NaN</td>\n",
       "      <td>Lead Confirmation</td>\n",
       "      <td>Open</td>\n",
       "      <td>NaN</td>\n",
       "      <td>20 Jul 2024 00:00:00</td>\n",
       "      <td>NaN</td>\n",
       "      <td>20-Jul-2024</td>\n",
       "    </tr>\n",
       "    <tr>\n",
       "      <th>1</th>\n",
       "      <td>37292</td>\n",
       "      <td>2024-07-20 11:57:20</td>\n",
       "      <td>Sage Milestone</td>\n",
       "      <td>Interested in SMS/SN Dupplex</td>\n",
       "      <td>NaN</td>\n",
       "      <td>NaN</td>\n",
       "      <td>discussion done and interested in duplex will ...</td>\n",
       "      <td>Neeraj Kamboj</td>\n",
       "      <td>20 Jul 2024 12:24:33</td>\n",
       "      <td>Neeraj Kamboj</td>\n",
       "      <td>...</td>\n",
       "      <td>NaN</td>\n",
       "      <td>NaN</td>\n",
       "      <td>NaN</td>\n",
       "      <td>NaN</td>\n",
       "      <td>Enquiry</td>\n",
       "      <td>Open</td>\n",
       "      <td>NaN</td>\n",
       "      <td>20 Jul 2024 00:00:00</td>\n",
       "      <td>NaN</td>\n",
       "      <td>20-Jul-2024</td>\n",
       "    </tr>\n",
       "    <tr>\n",
       "      <th>2</th>\n",
       "      <td>37291</td>\n",
       "      <td>2024-07-20 12:02:41</td>\n",
       "      <td>Sage Bungalows</td>\n",
       "      <td>NaN</td>\n",
       "      <td>NaN</td>\n",
       "      <td>NaN</td>\n",
       "      <td>want bungalow suggested our sage projects will...</td>\n",
       "      <td>Manju Ingle</td>\n",
       "      <td>20 Jul 2024 12:04:24</td>\n",
       "      <td>Manju Ingle</td>\n",
       "      <td>...</td>\n",
       "      <td>NaN</td>\n",
       "      <td>NaN</td>\n",
       "      <td>NaN</td>\n",
       "      <td>NaN</td>\n",
       "      <td>Site Visit - Proposed</td>\n",
       "      <td>Open</td>\n",
       "      <td>NaN</td>\n",
       "      <td>20 Jul 2024 00:00:00</td>\n",
       "      <td>NaN</td>\n",
       "      <td>20-Jul-2024</td>\n",
       "    </tr>\n",
       "    <tr>\n",
       "      <th>3</th>\n",
       "      <td>37290</td>\n",
       "      <td>2024-07-20 11:53:38</td>\n",
       "      <td>Sage Milestone</td>\n",
       "      <td>interested in duplex SMS</td>\n",
       "      <td>NaN</td>\n",
       "      <td>NaN</td>\n",
       "      <td>interested in duplex 810 sq ft all detals send...</td>\n",
       "      <td>Neeraj Kamboj</td>\n",
       "      <td>20 Jul 2024 11:55:34</td>\n",
       "      <td>Neeraj Kamboj</td>\n",
       "      <td>...</td>\n",
       "      <td>NaN</td>\n",
       "      <td>NaN</td>\n",
       "      <td>NaN</td>\n",
       "      <td>NaN</td>\n",
       "      <td>Enquiry</td>\n",
       "      <td>Open</td>\n",
       "      <td>NaN</td>\n",
       "      <td>20 Jul 2024 00:00:00</td>\n",
       "      <td>NaN</td>\n",
       "      <td>20-Jul-2024</td>\n",
       "    </tr>\n",
       "    <tr>\n",
       "      <th>4</th>\n",
       "      <td>37289</td>\n",
       "      <td>2024-07-20 11:51:34</td>\n",
       "      <td>Sage Nirvana Phase I</td>\n",
       "      <td>Residential Enquiry From Website Google Landin...</td>\n",
       "      <td>NaN</td>\n",
       "      <td>NaN</td>\n",
       "      <td>Residential Enquiry From Website Google Landin...</td>\n",
       "      <td>Pragati Kashyap</td>\n",
       "      <td>20 Jul 2024 11:51:35</td>\n",
       "      <td>Pragati Kashyap</td>\n",
       "      <td>...</td>\n",
       "      <td>Digital</td>\n",
       "      <td>Google Ads</td>\n",
       "      <td>Google - Website Landing</td>\n",
       "      <td>NaN</td>\n",
       "      <td>Enquiry</td>\n",
       "      <td>Open</td>\n",
       "      <td>NaN</td>\n",
       "      <td>20 Jul 2024 11:51:34</td>\n",
       "      <td>20 Jul 2024 11:51:35</td>\n",
       "      <td>20-Jul-2024</td>\n",
       "    </tr>\n",
       "  </tbody>\n",
       "</table>\n",
       "<p>5 rows × 33 columns</p>\n",
       "</div>"
      ],
      "text/plain": [
       "   Enquiry_id               EDate               Project  \\\n",
       "0       37293 2024-07-20 12:17:42        Sage Milestone   \n",
       "1       37292 2024-07-20 11:57:20        Sage Milestone   \n",
       "2       37291 2024-07-20 12:02:41        Sage Bungalows   \n",
       "3       37290 2024-07-20 11:53:38        Sage Milestone   \n",
       "4       37289 2024-07-20 11:51:34  Sage Nirvana Phase I   \n",
       "\n",
       "                                              Remark Result Final_Remark  \\\n",
       "0                                                NaN    NaN          NaN   \n",
       "1                       Interested in SMS/SN Dupplex    NaN          NaN   \n",
       "2                                                NaN    NaN          NaN   \n",
       "3                           interested in duplex SMS    NaN          NaN   \n",
       "4  Residential Enquiry From Website Google Landin...    NaN          NaN   \n",
       "\n",
       "                                             Remark1 HandledByEmployee  \\\n",
       "0  HE EFFFORT 30K EME 5L DOWNPAMNT...SMS SUGGUST ...      Faizal Ahmad   \n",
       "1  discussion done and interested in duplex will ...     Neeraj Kamboj   \n",
       "2  want bungalow suggested our sage projects will...       Manju Ingle   \n",
       "3  interested in duplex 810 sq ft all detals send...     Neeraj Kamboj   \n",
       "4  Residential Enquiry From Website Google Landin...   Pragati Kashyap   \n",
       "\n",
       "          FollowUp_Date Followup_Employee  ... Primary_Source  \\\n",
       "0  20 Jul 2024 12:18:44      Faizal Ahmad  ...            NaN   \n",
       "1  20 Jul 2024 12:24:33     Neeraj Kamboj  ...            NaN   \n",
       "2  20 Jul 2024 12:04:24       Manju Ingle  ...            NaN   \n",
       "3  20 Jul 2024 11:55:34     Neeraj Kamboj  ...            NaN   \n",
       "4  20 Jul 2024 11:51:35   Pragati Kashyap  ...        Digital   \n",
       "\n",
       "  Secondary_Source     Source_Of_Information CustomerType  \\\n",
       "0              NaN                       NaN          NaN   \n",
       "1              NaN                       NaN          NaN   \n",
       "2              NaN                       NaN          NaN   \n",
       "3              NaN                       NaN          NaN   \n",
       "4       Google Ads  Google - Website Landing          NaN   \n",
       "\n",
       "            EnquiryStage Enquiry_Status Enquiry Conclusion Date  \\\n",
       "0      Lead Confirmation           Open                     NaN   \n",
       "1                Enquiry           Open                     NaN   \n",
       "2  Site Visit - Proposed           Open                     NaN   \n",
       "3                Enquiry           Open                     NaN   \n",
       "4                Enquiry           Open                     NaN   \n",
       "\n",
       "        StageChangeDate    Last_Approach_Date Filtered_Date  \n",
       "0  20 Jul 2024 00:00:00                   NaN   20-Jul-2024  \n",
       "1  20 Jul 2024 00:00:00                   NaN   20-Jul-2024  \n",
       "2  20 Jul 2024 00:00:00                   NaN   20-Jul-2024  \n",
       "3  20 Jul 2024 00:00:00                   NaN   20-Jul-2024  \n",
       "4  20 Jul 2024 11:51:34  20 Jul 2024 11:51:35   20-Jul-2024  \n",
       "\n",
       "[5 rows x 33 columns]"
      ]
     },
     "execution_count": 13,
     "metadata": {},
     "output_type": "execute_result"
    }
   ],
   "source": [
    "df.head(5)"
   ]
  },
  {
   "cell_type": "code",
   "execution_count": 14,
   "metadata": {},
   "outputs": [
    {
     "name": "stderr",
     "output_type": "stream",
     "text": [
      "C:\\Users\\virtu\\AppData\\Local\\Temp\\ipykernel_29032\\996824532.py:1: FutureWarning: A value is trying to be set on a copy of a DataFrame or Series through chained assignment using an inplace method.\n",
      "The behavior will change in pandas 3.0. This inplace method will never work because the intermediate object on which we are setting values always behaves as a copy.\n",
      "\n",
      "For example, when doing 'df[col].method(value, inplace=True)', try using 'df.method({col: value}, inplace=True)' or df[col] = df[col].method(value) instead, to perform the operation inplace on the original object.\n",
      "\n",
      "\n",
      "  df['FollowUp_Date'].ffill(inplace=True)\n",
      "C:\\Users\\virtu\\AppData\\Local\\Temp\\ipykernel_29032\\996824532.py:2: FutureWarning: A value is trying to be set on a copy of a DataFrame or Series through chained assignment using an inplace method.\n",
      "The behavior will change in pandas 3.0. This inplace method will never work because the intermediate object on which we are setting values always behaves as a copy.\n",
      "\n",
      "For example, when doing 'df[col].method(value, inplace=True)', try using 'df.method({col: value}, inplace=True)' or df[col] = df[col].method(value) instead, to perform the operation inplace on the original object.\n",
      "\n",
      "\n",
      "  df['FollowUp_Mode'].fillna(df['FollowUp_Mode'].mode()[0], inplace=True)\n"
     ]
    }
   ],
   "source": [
    "df['FollowUp_Date'].ffill(inplace=True)\n",
    "df['FollowUp_Mode'].fillna(df['FollowUp_Mode'].mode()[0], inplace=True)\n"
   ]
  },
  {
   "cell_type": "code",
   "execution_count": 15,
   "metadata": {},
   "outputs": [],
   "source": [
    "df['EDate'] = pd.to_datetime(df['EDate'])\n",
    "df['FollowUp_Date'] = pd.to_datetime(df['FollowUp_Date'])\n",
    "df['Next_FollowUp1'] = pd.to_datetime(df['Next_FollowUp1'])"
   ]
  },
  {
   "cell_type": "code",
   "execution_count": 16,
   "metadata": {},
   "outputs": [],
   "source": [
    "def fill_next_followup(row):\n",
    "    if pd.isna(row['Next_FollowUp1']):\n",
    "        if row['FollowUp_Mode'] == 'Telephonic':\n",
    "            return row['FollowUp_Date'] + timedelta(days=2)\n",
    "        else:\n",
    "            return row['FollowUp_Date'] + timedelta(days=np.random.randint(1, 6))\n",
    "    else:\n",
    "        return row['Next_FollowUp1']\n"
   ]
  },
  {
   "cell_type": "code",
   "execution_count": 17,
   "metadata": {},
   "outputs": [
    {
     "name": "stderr",
     "output_type": "stream",
     "text": [
      "C:\\Users\\virtu\\AppData\\Local\\Temp\\ipykernel_29032\\1512571240.py:2: FutureWarning: A value is trying to be set on a copy of a DataFrame or Series through chained assignment using an inplace method.\n",
      "The behavior will change in pandas 3.0. This inplace method will never work because the intermediate object on which we are setting values always behaves as a copy.\n",
      "\n",
      "For example, when doing 'df[col].method(value, inplace=True)', try using 'df.method({col: value}, inplace=True)' or df[col] = df[col].method(value) instead, to perform the operation inplace on the original object.\n",
      "\n",
      "\n",
      "  df['CustomerGrade'].fillna('Unknown',inplace=True)\n"
     ]
    }
   ],
   "source": [
    "df['Next_FollowUp1'] = df.apply(fill_next_followup, axis=1)\n",
    "df['CustomerGrade'].fillna('Unknown',inplace=True)"
   ]
  },
  {
   "cell_type": "code",
   "execution_count": 18,
   "metadata": {},
   "outputs": [],
   "source": [
    "df = df.drop('UNITTYPENM',axis=1)"
   ]
  },
  {
   "cell_type": "code",
   "execution_count": 19,
   "metadata": {},
   "outputs": [],
   "source": [
    "unique_projects = df.Project.unique()"
   ]
  },
  {
   "cell_type": "code",
   "execution_count": 20,
   "metadata": {},
   "outputs": [
    {
     "name": "stdout",
     "output_type": "stream",
     "text": [
      "['Sage Milestone' 'Sage Bungalows' 'Sage Nirvana Phase I' nan\n",
      " 'Sage Golden Spring' 'Sage Sun Villas' 'Sage Sun City - Phase-I'\n",
      " 'Sage Milestone Phase-I C' 'Sage Nirvana Phase II'\n",
      " 'Sagar Pearl - Phase-II' 'vrandawanTrainingProject'\n",
      " 'Sage Golden Spring - Phase-II & IV' 'A SAMPLE  PROJECT 3'\n",
      " 'Sage Heritage - Phase-III' 'Sage Milestone Phase-I A'\n",
      " 'Sage Golden Spring - Phase-III' 'Sage Heritage - Phase-II'\n",
      " 'Sage Heritage - Phase-I']\n"
     ]
    }
   ],
   "source": [
    "print(unique_projects)"
   ]
  },
  {
   "cell_type": "code",
   "execution_count": 21,
   "metadata": {},
   "outputs": [],
   "source": [
    "# project_maping = {key:None for key in unique_projects}\n",
    "\n",
    "# print(project_maping)"
   ]
  },
  {
   "cell_type": "code",
   "execution_count": 22,
   "metadata": {},
   "outputs": [],
   "source": [
    "project_mapping = {'Sage Milestone': 'Hoshangabad Road', \n",
    "                  'Sage Bungalows': 'Kolar Road', \n",
    "                  'Sage Nirvana Phase I': 'Hoshangabad Road',\n",
    "                  'Unknown': 'Unknown', \n",
    "                  'Sage Golden Spring': 'Ayodhya Bypass', \n",
    "                  'Sage Sun Villas': 'Katara Hills', \n",
    "                  'Sage Sun City - Phase-I': 'Katara Hills', \n",
    "                  'Sage Milestone Phase-I C': 'Hoshangabad Road',\n",
    "                  'Sage Nirvana Phase II': 'Hoshangabad Road', \n",
    "                  'Sagar Pearl - Phase-II': 'Hoshangabad Road',\n",
    "                  'Sage Golden Spring - Phase-II & IV': 'Ayodhya Bypass',\n",
    "                  'Sage Heritage - Phase-III': 'Bawadiya Kalan',\n",
    "                  'Sage Milestone Phase-I A': 'Hoshangabad Road', \n",
    "                  'Sage Golden Spring - Phase-III': 'Ayodhya Bypass',\n",
    "                  'Sage Heritage - Phase-II': 'Bawadiya Kalan', \n",
    "                  'Sage Heritage - Phase-I': 'Bawadiya Kalan'}\n"
   ]
  },
  {
   "cell_type": "code",
   "execution_count": 23,
   "metadata": {},
   "outputs": [],
   "source": [
    "def update_project(row, proj_dict):\n",
    "    remark = row['Remark']\n",
    "    if pd.isna(remark):\n",
    "        return row['Project']  # Return the existing project if remark is NaN\n",
    "    remark = str(remark)  # Convert remark to string if it's not already\n",
    "    for key in proj_dict.keys():\n",
    "        if key in remark:\n",
    "            return key\n",
    "    for value in proj_dict.values():\n",
    "        if value in remark:\n",
    "            for k, v in proj_dict.items():\n",
    "                if v == value:\n",
    "                    return k\n",
    "    return row['Project']"
   ]
  },
  {
   "cell_type": "code",
   "execution_count": 24,
   "metadata": {},
   "outputs": [],
   "source": [
    "df['Project'] = df.apply(lambda row: update_project(row, project_mapping), axis=1)"
   ]
  },
  {
   "cell_type": "code",
   "execution_count": 25,
   "metadata": {},
   "outputs": [
    {
     "name": "stderr",
     "output_type": "stream",
     "text": [
      "C:\\Users\\virtu\\AppData\\Local\\Temp\\ipykernel_29032\\2333081419.py:1: FutureWarning: A value is trying to be set on a copy of a DataFrame or Series through chained assignment using an inplace method.\n",
      "The behavior will change in pandas 3.0. This inplace method will never work because the intermediate object on which we are setting values always behaves as a copy.\n",
      "\n",
      "For example, when doing 'df[col].method(value, inplace=True)', try using 'df.method({col: value}, inplace=True)' or df[col] = df[col].method(value) instead, to perform the operation inplace on the original object.\n",
      "\n",
      "\n",
      "  df['Project'].fillna('Unknown',inplace=True)\n"
     ]
    }
   ],
   "source": [
    "df['Project'].fillna('Unknown',inplace=True)\n"
   ]
  },
  {
   "cell_type": "code",
   "execution_count": 26,
   "metadata": {},
   "outputs": [
    {
     "name": "stderr",
     "output_type": "stream",
     "text": [
      "C:\\Users\\virtu\\AppData\\Local\\Temp\\ipykernel_29032\\1641223859.py:2: FutureWarning: A value is trying to be set on a copy of a DataFrame or Series through chained assignment using an inplace method.\n",
      "The behavior will change in pandas 3.0. This inplace method will never work because the intermediate object on which we are setting values always behaves as a copy.\n",
      "\n",
      "For example, when doing 'df[col].method(value, inplace=True)', try using 'df.method({col: value}, inplace=True)' or df[col] = df[col].method(value) instead, to perform the operation inplace on the original object.\n",
      "\n",
      "\n",
      "  df['Location'].fillna('Unknown',inplace=True)\n"
     ]
    }
   ],
   "source": [
    "df['Location'] = df['Project'].map(project_mapping)\n",
    "df['Location'].fillna('Unknown',inplace=True)\n"
   ]
  },
  {
   "cell_type": "code",
   "execution_count": 27,
   "metadata": {},
   "outputs": [
    {
     "name": "stderr",
     "output_type": "stream",
     "text": [
      "C:\\Users\\virtu\\AppData\\Local\\Temp\\ipykernel_29032\\3005197948.py:1: FutureWarning: A value is trying to be set on a copy of a DataFrame or Series through chained assignment using an inplace method.\n",
      "The behavior will change in pandas 3.0. This inplace method will never work because the intermediate object on which we are setting values always behaves as a copy.\n",
      "\n",
      "For example, when doing 'df[col].method(value, inplace=True)', try using 'df.method({col: value}, inplace=True)' or df[col] = df[col].method(value) instead, to perform the operation inplace on the original object.\n",
      "\n",
      "\n",
      "  df['Budget'].fillna('Unknown',inplace=True)\n"
     ]
    }
   ],
   "source": [
    "df['Budget'].fillna('Unknown',inplace=True)"
   ]
  },
  {
   "cell_type": "code",
   "execution_count": 28,
   "metadata": {},
   "outputs": [],
   "source": [
    "df = df.drop(['Campaign','Primary_Source','Secondary_Source','Source_Of_Information'],axis=1)\n"
   ]
  },
  {
   "cell_type": "code",
   "execution_count": 29,
   "metadata": {},
   "outputs": [
    {
     "name": "stderr",
     "output_type": "stream",
     "text": [
      "C:\\Users\\virtu\\AppData\\Local\\Temp\\ipykernel_29032\\3680034639.py:1: FutureWarning: A value is trying to be set on a copy of a DataFrame or Series through chained assignment using an inplace method.\n",
      "The behavior will change in pandas 3.0. This inplace method will never work because the intermediate object on which we are setting values always behaves as a copy.\n",
      "\n",
      "For example, when doing 'df[col].method(value, inplace=True)', try using 'df.method({col: value}, inplace=True)' or df[col] = df[col].method(value) instead, to perform the operation inplace on the original object.\n",
      "\n",
      "\n",
      "  df['Source'].fillna('Unknown',inplace=True)\n",
      "C:\\Users\\virtu\\AppData\\Local\\Temp\\ipykernel_29032\\3680034639.py:2: FutureWarning: A value is trying to be set on a copy of a DataFrame or Series through chained assignment using an inplace method.\n",
      "The behavior will change in pandas 3.0. This inplace method will never work because the intermediate object on which we are setting values always behaves as a copy.\n",
      "\n",
      "For example, when doing 'df[col].method(value, inplace=True)', try using 'df.method({col: value}, inplace=True)' or df[col] = df[col].method(value) instead, to perform the operation inplace on the original object.\n",
      "\n",
      "\n",
      "  df['Enquirytype'].fillna('Unknown',inplace=True)\n"
     ]
    }
   ],
   "source": [
    "df['Source'].fillna('Unknown',inplace=True)\n",
    "df['Enquirytype'].fillna('Unknown',inplace=True)"
   ]
  },
  {
   "cell_type": "code",
   "execution_count": 30,
   "metadata": {},
   "outputs": [],
   "source": [
    "df = df.drop(['CustomerType'],axis=1)\n",
    "df = df.drop(['Result'],axis=1)"
   ]
  },
  {
   "cell_type": "code",
   "execution_count": 31,
   "metadata": {},
   "outputs": [],
   "source": [
    "df = df.drop(['Enquiry_id'],axis=1)\n",
    "df = df.drop(['Final_Remark'],axis=1)\n",
    "df = df.drop(['Followup_Employee'],axis=1)\n",
    "df = df.drop(['Approach_Followup_Employee'],axis=1)\n",
    "df = df.drop(['Next_Followup_Employee'],axis=1)\n",
    "df = df.drop(['Enquirytype'],axis=1)\n",
    "df = df.drop(['Enquiry Conclusion Date'],axis=1)\n",
    "df = df.drop(['Filtered_Date'],axis=1)\n",
    "df = df.drop(['Last_Approach_Date'],axis=1)"
   ]
  },
  {
   "cell_type": "code",
   "execution_count": 32,
   "metadata": {},
   "outputs": [],
   "source": [
    "enquiry_status_stage = df[['Enquiry_Status', 'EnquiryStage']]\n"
   ]
  },
  {
   "cell_type": "code",
   "execution_count": 33,
   "metadata": {},
   "outputs": [],
   "source": [
    "filtered_data = enquiry_status_stage[(enquiry_status_stage['Enquiry_Status'] == 'Booked') & (enquiry_status_stage['EnquiryStage'].notna())]\n",
    "enquiry_stage_list = filtered_data['EnquiryStage'].tolist()"
   ]
  },
  {
   "cell_type": "code",
   "execution_count": 34,
   "metadata": {},
   "outputs": [],
   "source": [
    "enquiry_stage = []\n",
    "for i in enquiry_stage_list:\n",
    "    if i not in enquiry_stage:\n",
    "        enquiry_stage.append(i)\n",
    "    else:\n",
    "        pass"
   ]
  },
  {
   "cell_type": "code",
   "execution_count": 35,
   "metadata": {},
   "outputs": [
    {
     "name": "stdout",
     "output_type": "stream",
     "text": [
      "['Finalization', 'Negotiation - Proposed', 'Enquiry', 'Office Visit - Done', 'Site Visit - Done', 'Negotiation', 'Lead Confirmation', 'Site Visit - Proposed', 'Home Visit - Done']\n"
     ]
    }
   ],
   "source": [
    "print(enquiry_stage)"
   ]
  },
  {
   "cell_type": "code",
   "execution_count": 36,
   "metadata": {},
   "outputs": [
    {
     "name": "stdout",
     "output_type": "stream",
     "text": [
      "Site Visit - Proposed\n",
      "Lead Confirmation\n",
      "Home Visit - Done\n",
      "Office Visit - Done\n",
      "Finalization\n",
      "Negotiation\n",
      "Finalization\n",
      "Site Visit - Done\n",
      "Negotiation - Proposed\n"
     ]
    }
   ],
   "source": [
    "for i in range(len(enquiry_stage)):\n",
    "    print(np.random.choice(enquiry_stage))"
   ]
  },
  {
   "cell_type": "code",
   "execution_count": 37,
   "metadata": {},
   "outputs": [],
   "source": [
    "def update_Estage(row):\n",
    "    if pd.isna(row['EnquiryStage']):\n",
    "        if row['Enquiry_Status'] == 'Booked':\n",
    "            return random.choice(enquiry_stage)\n",
    "        else:\n",
    "            return row['EnquiryStage']\n",
    "    else:\n",
    "        return row['EnquiryStage']\n"
   ]
  },
  {
   "cell_type": "code",
   "execution_count": 38,
   "metadata": {},
   "outputs": [
    {
     "name": "stderr",
     "output_type": "stream",
     "text": [
      "C:\\Users\\virtu\\AppData\\Local\\Temp\\ipykernel_29032\\1829650043.py:1: FutureWarning: A value is trying to be set on a copy of a DataFrame or Series through chained assignment using an inplace method.\n",
      "The behavior will change in pandas 3.0. This inplace method will never work because the intermediate object on which we are setting values always behaves as a copy.\n",
      "\n",
      "For example, when doing 'df[col].method(value, inplace=True)', try using 'df.method({col: value}, inplace=True)' or df[col] = df[col].method(value) instead, to perform the operation inplace on the original object.\n",
      "\n",
      "\n",
      "  df['EnquiryStage'].fillna('Unknown',inplace=True)\n"
     ]
    }
   ],
   "source": [
    "df['EnquiryStage'].fillna('Unknown',inplace=True)"
   ]
  },
  {
   "cell_type": "code",
   "execution_count": 39,
   "metadata": {},
   "outputs": [],
   "source": [
    "df['Remark1'] = df['Remark1'].fillna(df['Remark'])"
   ]
  },
  {
   "cell_type": "code",
   "execution_count": 40,
   "metadata": {},
   "outputs": [
    {
     "name": "stderr",
     "output_type": "stream",
     "text": [
      "C:\\Users\\virtu\\AppData\\Local\\Temp\\ipykernel_29032\\1155670758.py:1: FutureWarning: A value is trying to be set on a copy of a DataFrame or Series through chained assignment using an inplace method.\n",
      "The behavior will change in pandas 3.0. This inplace method will never work because the intermediate object on which we are setting values always behaves as a copy.\n",
      "\n",
      "For example, when doing 'df[col].method(value, inplace=True)', try using 'df.method({col: value}, inplace=True)' or df[col] = df[col].method(value) instead, to perform the operation inplace on the original object.\n",
      "\n",
      "\n",
      "  df['Remark1'].fillna('Unknown',inplace=True)\n",
      "C:\\Users\\virtu\\AppData\\Local\\Temp\\ipykernel_29032\\1155670758.py:2: FutureWarning: A value is trying to be set on a copy of a DataFrame or Series through chained assignment using an inplace method.\n",
      "The behavior will change in pandas 3.0. This inplace method will never work because the intermediate object on which we are setting values always behaves as a copy.\n",
      "\n",
      "For example, when doing 'df[col].method(value, inplace=True)', try using 'df.method({col: value}, inplace=True)' or df[col] = df[col].method(value) instead, to perform the operation inplace on the original object.\n",
      "\n",
      "\n",
      "  df['Occupation'].fillna('Unknown',inplace=True)\n"
     ]
    }
   ],
   "source": [
    "df['Remark1'].fillna('Unknown',inplace=True)\n",
    "df['Occupation'].fillna('Unknown',inplace=True)"
   ]
  },
  {
   "cell_type": "code",
   "execution_count": 41,
   "metadata": {},
   "outputs": [],
   "source": [
    "df = df.drop(['Remark'],axis=1)\n",
    "df = df.drop(['StageChangeDate'],axis=1)"
   ]
  },
  {
   "cell_type": "code",
   "execution_count": 42,
   "metadata": {},
   "outputs": [
    {
     "data": {
      "text/plain": [
       "Text(0.5, 1.0, 'Distribution of EDate')"
      ]
     },
     "execution_count": 42,
     "metadata": {},
     "output_type": "execute_result"
    },
    {
     "data": {
      "image/png": "[encoded data removed]",
      "text/plain": [
       "<Figure size 1500x1000 with 1 Axes>"
      ]
     },
     "metadata": {},
     "output_type": "display_data"
    }
   ],
   "source": [
    "\n",
    "# Distribution of Dates\n",
    "plt.figure(figsize=(15, 10))\n",
    "plt.subplot(3, 1, 1)\n",
    "df['EDate'].hist(bins=50, alpha=0.7, label='EDate')\n",
    "plt.legend()\n",
    "plt.title('Distribution of EDate')"
   ]
  },
  {
   "cell_type": "code",
   "execution_count": 43,
   "metadata": {},
   "outputs": [
    {
     "data": {
      "text/plain": [
       "Text(0.5, 1.0, 'Distribution of FollowUp_Date')"
      ]
     },
     "execution_count": 43,
     "metadata": {},
     "output_type": "execute_result"
    },
    {
     "data": {
      "image/png": "[encoded data removed]",
      "text/plain": [
       "<Figure size 640x480 with 1 Axes>"
      ]
     },
     "metadata": {},
     "output_type": "display_data"
    }
   ],
   "source": [
    "plt.subplot(3, 1, 2)\n",
    "df['FollowUp_Date'].hist(bins=50, alpha=0.7, label='FollowUp_Date')\n",
    "plt.legend()\n",
    "plt.title('Distribution of FollowUp_Date')"
   ]
  },
  {
   "cell_type": "code",
   "execution_count": null,
   "metadata": {},
   "outputs": [],
   "source": []
  },
  {
   "cell_type": "code",
   "execution_count": 44,
   "metadata": {},
   "outputs": [
    {
     "data": {
      "text/plain": [
       "Enquiry_Status\n",
       "Closed    14219\n",
       "Open      11622\n",
       "Booked      773\n",
       "Name: count, dtype: int64"
      ]
     },
     "execution_count": 44,
     "metadata": {},
     "output_type": "execute_result"
    }
   ],
   "source": [
    "df['Enquiry_Status'].value_counts()\n"
   ]
  },
  {
   "cell_type": "code",
   "execution_count": 45,
   "metadata": {},
   "outputs": [],
   "source": [
    "date_cols = ['EDate', 'FollowUp_Date', 'Next_FollowUp1']\n",
    "for col in date_cols:\n",
    "    df[col] = pd.to_datetime(df[col], errors='coerce')\n"
   ]
  },
  {
   "cell_type": "code",
   "execution_count": 46,
   "metadata": {},
   "outputs": [],
   "source": [
    "# Extract features from date columns\n",
    "for col in date_cols:\n",
    "    df[f'{col}_year'] = df[col].dt.year\n",
    "    df[f'{col}_month'] = df[col].dt.month\n",
    "    df[f'{col}_day'] = df[col].dt.day\n",
    "    df[f'{col}_hour'] = df[col].dt.hour\n",
    "    df[f'{col}_minute'] = df[col].dt.minute\n",
    "    df[f'{col}_second'] = df[col].dt.second\n"
   ]
  },
  {
   "cell_type": "code",
   "execution_count": 47,
   "metadata": {},
   "outputs": [],
   "source": [
    "# Drop original date columns\n",
    "df = df.drop(columns=date_cols)\n",
    "\n"
   ]
  },
  {
   "cell_type": "code",
   "execution_count": 48,
   "metadata": {},
   "outputs": [],
   "source": [
    "# Convert 'Budget' column to numerical format\n",
    "def convert_budget(budget_str):\n",
    "    if pd.isnull(budget_str) or budget_str == 'Unknown':\n",
    "        return None\n",
    "    budget_str = budget_str.replace('Lakh', '').replace('Cr', '').replace('& Above', '').strip()\n",
    "    if '-' in budget_str:\n",
    "        lower, upper = map(float, budget_str.split('-'))\n",
    "        return (lower + upper) / 2 * 1e5  # Convert to numerical value in Lakhs\n",
    "    else:\n",
    "        return float(budget_str) * 1e7  # Convert to numerical value in Crores\n"
   ]
  },
  {
   "cell_type": "code",
   "execution_count": 49,
   "metadata": {},
   "outputs": [],
   "source": [
    "df['Budget'] = df['Budget'].apply(convert_budget)\n"
   ]
  },
  {
   "cell_type": "code",
   "execution_count": 50,
   "metadata": {},
   "outputs": [
    {
     "name": "stderr",
     "output_type": "stream",
     "text": [
      "C:\\Users\\virtu\\AppData\\Local\\Temp\\ipykernel_29032\\1989036808.py:2: FutureWarning: A value is trying to be set on a copy of a DataFrame or Series through chained assignment using an inplace method.\n",
      "The behavior will change in pandas 3.0. This inplace method will never work because the intermediate object on which we are setting values always behaves as a copy.\n",
      "\n",
      "For example, when doing 'df[col].method(value, inplace=True)', try using 'df.method({col: value}, inplace=True)' or df[col] = df[col].method(value) instead, to perform the operation inplace on the original object.\n",
      "\n",
      "\n",
      "  df['Budget'].fillna(mean_budget, inplace=True)\n"
     ]
    }
   ],
   "source": [
    "mean_budget = df['Budget'].mean()\n",
    "df['Budget'].fillna(mean_budget, inplace=True)\n"
   ]
  },
  {
   "cell_type": "code",
   "execution_count": 51,
   "metadata": {},
   "outputs": [],
   "source": [
    "df['is_booked'] = df['Enquiry_Status'].apply(lambda x: 1 if x == 'Booked' else 0)\n"
   ]
  },
  {
   "cell_type": "code",
   "execution_count": 52,
   "metadata": {},
   "outputs": [],
   "source": [
    "# Split data\n",
    "booked_df = df[df['is_booked'] == 1]\n",
    "non_booked_df = df[df['is_booked'] == 0]"
   ]
  },
  {
   "cell_type": "code",
   "execution_count": 53,
   "metadata": {},
   "outputs": [],
   "source": [
    "# # Separate 'Booked' rows\n",
    "# booked_df = df[df['Enquiry_Status'] == 'Booked']\n",
    "# non_booked_df = df[df['Enquiry_Status'] != 'Booked']\n"
   ]
  },
  {
   "cell_type": "code",
   "execution_count": 54,
   "metadata": {},
   "outputs": [],
   "source": [
    "# Split 'Booked' rows: 80% train, 10% validation, 10% test\n",
    "booked_train, booked_temp = train_test_split(booked_df, test_size=0.2, random_state=42)\n",
    "booked_val, booked_test = train_test_split(booked_temp, test_size=0.5, random_state=42)\n"
   ]
  },
  {
   "cell_type": "code",
   "execution_count": 55,
   "metadata": {},
   "outputs": [],
   "source": [
    "# Split remaining data: 80% train, 10% validation, 10% test\n",
    "non_booked_train, non_booked_temp = train_test_split(non_booked_df, test_size=0.2, random_state=42)\n",
    "non_booked_val, non_booked_test = train_test_split(non_booked_temp, test_size=0.5, random_state=42)\n"
   ]
  },
  {
   "cell_type": "code",
   "execution_count": 56,
   "metadata": {},
   "outputs": [],
   "source": [
    "# Combine the splits\n",
    "train_df = pd.concat([booked_train, non_booked_train])\n",
    "val_df = pd.concat([booked_val, non_booked_val])\n",
    "test_df = pd.concat([booked_test, non_booked_test])\n"
   ]
  },
  {
   "cell_type": "code",
   "execution_count": 57,
   "metadata": {},
   "outputs": [],
   "source": [
    "#distribution in splits\n",
    "train_dist = train_df['Enquiry_Status'].value_counts()\n",
    "val_dist = val_df['Enquiry_Status'].value_counts()\n",
    "test_dist = test_df['Enquiry_Status'].value_counts()\n"
   ]
  },
  {
   "cell_type": "code",
   "execution_count": 58,
   "metadata": {},
   "outputs": [
    {
     "data": {
      "text/plain": [
       "(Enquiry_Status\n",
       " Closed    11341\n",
       " Open       9331\n",
       " Booked      618\n",
       " Name: count, dtype: int64,\n",
       " Enquiry_Status\n",
       " Closed    1433\n",
       " Open      1151\n",
       " Booked      77\n",
       " Name: count, dtype: int64,\n",
       " Enquiry_Status\n",
       " Closed    1445\n",
       " Open      1140\n",
       " Booked      78\n",
       " Name: count, dtype: int64)"
      ]
     },
     "execution_count": 58,
     "metadata": {},
     "output_type": "execute_result"
    }
   ],
   "source": [
    "train_dist, val_dist, test_dist\n"
   ]
  },
  {
   "cell_type": "code",
   "execution_count": 59,
   "metadata": {},
   "outputs": [],
   "source": [
    "# # Separate features and target\n",
    "# X_train = train_df.drop(columns=['Enquiry_Status'])\n",
    "# y_train = train_df['Enquiry_Status']\n",
    "\n",
    "# X_val = val_df.drop(columns=['Enquiry_Status'])\n",
    "# y_val = val_df['Enquiry_Status']\n",
    "\n",
    "# X_test = test_df.drop(columns=['Enquiry_Status'])\n",
    "# y_test = test_df['Enquiry_Status']"
   ]
  },
  {
   "cell_type": "code",
   "execution_count": 60,
   "metadata": {},
   "outputs": [],
   "source": [
    "# Separate features and target\n",
    "X_train = train_df.drop(columns=['Enquiry_Status', 'is_booked'])\n",
    "y_train = train_df['is_booked']\n",
    "X_val = val_df.drop(columns=['Enquiry_Status', 'is_booked'])\n",
    "y_val = val_df['is_booked']\n",
    "X_test = test_df.drop(columns=['Enquiry_Status', 'is_booked'])\n",
    "y_test = test_df['is_booked']"
   ]
  },
  {
   "cell_type": "code",
   "execution_count": 61,
   "metadata": {},
   "outputs": [],
   "source": [
    "# # Encode target variable\n",
    "# label_encoder = LabelEncoder()\n",
    "# y_train = label_encoder.fit_transform(y_train)\n",
    "# y_val = label_encoder.transform(y_val)\n",
    "# y_test = label_encoder.transform(y_test)\n"
   ]
  },
  {
   "cell_type": "code",
   "execution_count": 62,
   "metadata": {},
   "outputs": [],
   "source": [
    "# Binary Encoding for categorical variables\n",
    "categorical_columns = ['Project', 'Remark1', 'HandledByEmployee', 'FollowUp_Mode', \n",
    "                       'CustomerGrade', 'Marital_Status', 'Occupation', \n",
    "                       'Location', 'Source', 'EnquiryStage']\n",
    "\n",
    "encoder = ce.BinaryEncoder(cols=categorical_columns)\n",
    "X_train_encoded = encoder.fit_transform(X_train)\n",
    "X_val_encoded = encoder.transform(X_val)\n",
    "X_test_encoded = encoder.transform(X_test)"
   ]
  },
  {
   "cell_type": "code",
   "execution_count": 63,
   "metadata": {},
   "outputs": [],
   "source": [
    "# Standardize the numerical features\n",
    "scaler = StandardScaler()\n",
    "numerical_columns = ['Budget']  \n",
    "X_train_encoded[numerical_columns] = scaler.fit_transform(X_train_encoded[numerical_columns])\n",
    "X_val_encoded[numerical_columns] = scaler.transform(X_val_encoded[numerical_columns])\n",
    "X_test_encoded[numerical_columns] = scaler.transform(X_test_encoded[numerical_columns])\n"
   ]
  },
  {
   "cell_type": "code",
   "execution_count": 64,
   "metadata": {},
   "outputs": [],
   "source": [
    "# categorical_cols = X_train.select_dtypes(include=['object']).columns\n",
    "# categorical_transformer = OneHotEncoder(handle_unknown='ignore')\n"
   ]
  },
  {
   "cell_type": "code",
   "execution_count": 65,
   "metadata": {},
   "outputs": [],
   "source": [
    "# preprocessor = ColumnTransformer(\n",
    "#     transformers=[\n",
    "#         ('cat', categorical_transformer, categorical_cols)\n",
    "#     ], remainder='passthrough') "
   ]
  },
  {
   "cell_type": "code",
   "execution_count": 66,
   "metadata": {},
   "outputs": [],
   "source": [
    "# # Preprocess the data\n",
    "# X_train_processed = preprocessor.fit_transform(X_train)\n",
    "# X_val_processed = preprocessor.transform(X_val)\n",
    "# X_test_processed = preprocessor.transform(X_test)\n"
   ]
  },
  {
   "cell_type": "code",
   "execution_count": 67,
   "metadata": {},
   "outputs": [],
   "source": [
    "# X_train_processed.shape, X_val_processed.shape, X_test_processed.shape"
   ]
  },
  {
   "cell_type": "code",
   "execution_count": 68,
   "metadata": {},
   "outputs": [
    {
     "name": "stderr",
     "output_type": "stream",
     "text": [
      "v:\\Highrise\\Prediction\\myenv\\Lib\\site-packages\\sklearn\\metrics\\_scorer.py:610: FutureWarning: The `needs_threshold` and `needs_proba` parameter are deprecated in version 1.4 and will be removed in 1.6. You can either let `response_method` be `None` or set it to `predict` to preserve the same behaviour.\n",
      "  warnings.warn(\n"
     ]
    }
   ],
   "source": [
    "roc_auc_scorer = make_scorer(roc_auc_score, needs_proba=True)\n"
   ]
  },
  {
   "cell_type": "code",
   "execution_count": 69,
   "metadata": {},
   "outputs": [],
   "source": [
    "#  models and parameters\n",
    "models = {\n",
    "    'Logistic Regression': {\n",
    "        'model': LogisticRegression(max_iter=1000),\n",
    "        'params': {\n",
    "            'C': [0.1, 1, 10]\n",
    "        }\n",
    "    },\n",
    "    'Random Forest': {\n",
    "        'model': RandomForestClassifier(),\n",
    "        'params': {\n",
    "            'n_estimators': [50, 100, 200],\n",
    "            'max_depth': [None, 10, 20],\n",
    "            'min_samples_split': [2, 5, 10]\n",
    "        }\n",
    "    },\n",
    "    'Gradient Boosting': {\n",
    "        'model': GradientBoostingClassifier(),\n",
    "        'params': {\n",
    "            'n_estimators': [50, 100, 200],\n",
    "            'learning_rate': [0.01, 0.1, 0.2],\n",
    "            'max_depth': [3, 5, 7]\n",
    "        }\n",
    "    }\n",
    "}\n",
    "\n"
   ]
  }
 ],
 "metadata": {
  "kernelspec": {
   "display_name": "Python 3 (ipykernel)",
   "language": "python",
   "name": "python3"
  },
  "language_info": {
   "codemirror_mode": {
    "name": "ipython",
    "version": 3
   },
   "file_extension": ".py",
   "mimetype": "text/x-python",
   "name": "python",
   "nbconvert_exporter": "python",
   "pygments_lexer": "ipython3",
   "version": "3.9.12"
  }
 },
 "nbformat": 4,
 "nbformat_minor": 2
}
